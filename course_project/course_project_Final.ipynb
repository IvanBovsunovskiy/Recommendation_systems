{
 "cells": [
  {
   "cell_type": "markdown",
   "metadata": {},
   "source": [
    "# Course project\n"
   ]
  },
  {
   "cell_type": "markdown",
   "metadata": {},
   "source": [
    "**Основное**\n",
    "- Дедлайн - 19 февраля 23:59\n",
    "- Целевая метрика precision@5\n",
    "- Бейзлайн решения - [MainRecommender](https://github.com/geangohn/recsys-tutorial/blob/master/src/recommenders.py)\n",
    "- Сдаем ссылку на github с решением. В решении должны быть отчетливо видна метрика на новом тестовом сете из файла retail_test1.csv, то есть вам нужно для всех юзеров из этого файла выдать выши рекомендации, и посчитать на actual покупках precision@5. \n",
    "\n",
    "**!! Мы не рассматриваем холодный старт для пользователя, все наши пользователя одинаковы во всех сетах, поэтому нужно позаботиться об их исключении из теста.**\n",
    "\n",
    "\n",
    "**Hints:** \n",
    "\n",
    "Сначала просто попробуйте разные параметры MainRecommender:  \n",
    "- N в топ-N товарах при формировании user-item матирцы (сейчас топ-5000)  \n",
    "- Различные веса в user-item матрице (0/1, кол-во покупок, log(кол-во покупок + 1), сумма покупки, ...)  \n",
    "- Разные взвешивания матрицы (TF-IDF, BM25 - у него есть параметры)  \n",
    "- Разные смешивания рекомендаций (обратите внимание на бейзлайн - прошлые покупки юзера)  \n",
    "\n",
    "Сделайте MVP - минимально рабочий продукт - (пусть даже top-popular), а потом его улучшайте\n",
    "\n",
    "Если вы делаете двухуровневую модель - следите за валидацией "
   ]
  },
  {
   "cell_type": "markdown",
   "metadata": {},
   "source": [
    "# Import libs"
   ]
  },
  {
   "cell_type": "code",
   "execution_count": 1,
   "metadata": {},
   "outputs": [],
   "source": [
    "import pandas as pd\n",
    "import numpy as np\n",
    "import matplotlib.pyplot as plt\n",
    "%matplotlib inline\n",
    "\n",
    "# Для работы с матрицами\n",
    "from scipy.sparse import csr_matrix\n",
    "\n",
    "# Матричная факторизация\n",
    "from implicit import als\n",
    "\n",
    "# Модель второго уровня\n",
    "from lightgbm import LGBMClassifier\n",
    "from catboost import CatBoostClassifier\n",
    "\n",
    "import os, sys\n",
    "module_path = os.path.abspath(os.path.join(os.pardir))\n",
    "if module_path not in sys.path:\n",
    "    sys.path.append(module_path)\n",
    "\n",
    "# Написанные нами функции\n",
    "from metrics import precision_at_k, recall_at_k\n",
    "from utils import prefilter_items\n",
    "from recommenders import MainRecommender"
   ]
  },
  {
   "cell_type": "markdown",
   "metadata": {},
   "source": [
    "## Read data"
   ]
  },
  {
   "cell_type": "code",
   "execution_count": 2,
   "metadata": {},
   "outputs": [],
   "source": [
    "data = pd.read_csv('retail_train.csv')\n",
    "item_features = pd.read_csv('product.csv')\n",
    "user_features = pd.read_csv('hh_demographic.csv')"
   ]
  },
  {
   "cell_type": "code",
   "execution_count": 3,
   "metadata": {},
   "outputs": [
    {
     "data": {
      "text/html": [
       "<div>\n",
       "<style scoped>\n",
       "    .dataframe tbody tr th:only-of-type {\n",
       "        vertical-align: middle;\n",
       "    }\n",
       "\n",
       "    .dataframe tbody tr th {\n",
       "        vertical-align: top;\n",
       "    }\n",
       "\n",
       "    .dataframe thead th {\n",
       "        text-align: right;\n",
       "    }\n",
       "</style>\n",
       "<table border=\"1\" class=\"dataframe\">\n",
       "  <thead>\n",
       "    <tr style=\"text-align: right;\">\n",
       "      <th></th>\n",
       "      <th>user_id</th>\n",
       "      <th>basket_id</th>\n",
       "      <th>day</th>\n",
       "      <th>item_id</th>\n",
       "      <th>quantity</th>\n",
       "      <th>sales_value</th>\n",
       "      <th>store_id</th>\n",
       "      <th>retail_disc</th>\n",
       "      <th>trans_time</th>\n",
       "      <th>week_no</th>\n",
       "      <th>coupon_disc</th>\n",
       "      <th>coupon_match_disc</th>\n",
       "    </tr>\n",
       "  </thead>\n",
       "  <tbody>\n",
       "    <tr>\n",
       "      <th>0</th>\n",
       "      <td>2375</td>\n",
       "      <td>26984851472</td>\n",
       "      <td>1</td>\n",
       "      <td>1004906</td>\n",
       "      <td>1</td>\n",
       "      <td>1.39</td>\n",
       "      <td>364</td>\n",
       "      <td>-0.60</td>\n",
       "      <td>1631</td>\n",
       "      <td>1</td>\n",
       "      <td>0.0</td>\n",
       "      <td>0.0</td>\n",
       "    </tr>\n",
       "    <tr>\n",
       "      <th>1</th>\n",
       "      <td>2375</td>\n",
       "      <td>26984851472</td>\n",
       "      <td>1</td>\n",
       "      <td>1033142</td>\n",
       "      <td>1</td>\n",
       "      <td>0.82</td>\n",
       "      <td>364</td>\n",
       "      <td>0.00</td>\n",
       "      <td>1631</td>\n",
       "      <td>1</td>\n",
       "      <td>0.0</td>\n",
       "      <td>0.0</td>\n",
       "    </tr>\n",
       "    <tr>\n",
       "      <th>2</th>\n",
       "      <td>2375</td>\n",
       "      <td>26984851472</td>\n",
       "      <td>1</td>\n",
       "      <td>1036325</td>\n",
       "      <td>1</td>\n",
       "      <td>0.99</td>\n",
       "      <td>364</td>\n",
       "      <td>-0.30</td>\n",
       "      <td>1631</td>\n",
       "      <td>1</td>\n",
       "      <td>0.0</td>\n",
       "      <td>0.0</td>\n",
       "    </tr>\n",
       "    <tr>\n",
       "      <th>3</th>\n",
       "      <td>2375</td>\n",
       "      <td>26984851472</td>\n",
       "      <td>1</td>\n",
       "      <td>1082185</td>\n",
       "      <td>1</td>\n",
       "      <td>1.21</td>\n",
       "      <td>364</td>\n",
       "      <td>0.00</td>\n",
       "      <td>1631</td>\n",
       "      <td>1</td>\n",
       "      <td>0.0</td>\n",
       "      <td>0.0</td>\n",
       "    </tr>\n",
       "    <tr>\n",
       "      <th>4</th>\n",
       "      <td>2375</td>\n",
       "      <td>26984851472</td>\n",
       "      <td>1</td>\n",
       "      <td>8160430</td>\n",
       "      <td>1</td>\n",
       "      <td>1.50</td>\n",
       "      <td>364</td>\n",
       "      <td>-0.39</td>\n",
       "      <td>1631</td>\n",
       "      <td>1</td>\n",
       "      <td>0.0</td>\n",
       "      <td>0.0</td>\n",
       "    </tr>\n",
       "  </tbody>\n",
       "</table>\n",
       "</div>"
      ],
      "text/plain": [
       "   user_id    basket_id  day  item_id  quantity  sales_value  store_id  \\\n",
       "0     2375  26984851472    1  1004906         1         1.39       364   \n",
       "1     2375  26984851472    1  1033142         1         0.82       364   \n",
       "2     2375  26984851472    1  1036325         1         0.99       364   \n",
       "3     2375  26984851472    1  1082185         1         1.21       364   \n",
       "4     2375  26984851472    1  8160430         1         1.50       364   \n",
       "\n",
       "   retail_disc  trans_time  week_no  coupon_disc  coupon_match_disc  \n",
       "0        -0.60        1631        1          0.0                0.0  \n",
       "1         0.00        1631        1          0.0                0.0  \n",
       "2        -0.30        1631        1          0.0                0.0  \n",
       "3         0.00        1631        1          0.0                0.0  \n",
       "4        -0.39        1631        1          0.0                0.0  "
      ]
     },
     "execution_count": 3,
     "metadata": {},
     "output_type": "execute_result"
    }
   ],
   "source": [
    "data.head()"
   ]
  },
  {
   "cell_type": "markdown",
   "metadata": {},
   "source": [
    "# Set global const"
   ]
  },
  {
   "cell_type": "code",
   "execution_count": 4,
   "metadata": {},
   "outputs": [],
   "source": [
    "ITEM_COL = 'item_id'\n",
    "USER_COL = 'user_id'\n",
    "ACTUAL_COL = 'actual'\n",
    "\n",
    "# N = Neighbors\n",
    "N_PREDICT = 100 "
   ]
  },
  {
   "cell_type": "markdown",
   "metadata": {},
   "source": [
    "# Process features dataset"
   ]
  },
  {
   "cell_type": "code",
   "execution_count": 5,
   "metadata": {},
   "outputs": [],
   "source": [
    "# column processing\n",
    "item_features.columns = [col.lower() for col in item_features.columns]\n",
    "user_features.columns = [col.lower() for col in user_features.columns]\n",
    "\n",
    "item_features.rename(columns={'product_id': ITEM_COL}, inplace=True)\n",
    "user_features.rename(columns={'household_key': USER_COL }, inplace=True)"
   ]
  },
  {
   "cell_type": "markdown",
   "metadata": {},
   "source": [
    "# Split dataset for train, eval, test"
   ]
  },
  {
   "cell_type": "code",
   "execution_count": 6,
   "metadata": {},
   "outputs": [],
   "source": [
    "# Важна схема обучения и валидации!\n",
    "# -- давние покупки -- | -- 7 недель -- | -- 4 недель -- \n",
    "# подобрать размер 2-ого датасета (7 недель) --> learning curve (зависимость метрики recall@k от размера датасета)\n",
    "VAL_MATCHER_WEEKS = 9\n",
    "VAL_RANKER_WEEKS = 3"
   ]
  },
  {
   "cell_type": "code",
   "execution_count": 7,
   "metadata": {
    "scrolled": true
   },
   "outputs": [],
   "source": [
    "# берем данные для тренировки matching модели\n",
    "data_train_matcher = data[data['week_no'] < data['week_no'].max() - (VAL_MATCHER_WEEKS + VAL_RANKER_WEEKS)]\n",
    "\n",
    "# берем данные для валидации matching модели\n",
    "data_val_matcher = data[(data['week_no'] >= data['week_no'].max() - (VAL_MATCHER_WEEKS + VAL_RANKER_WEEKS)) &\n",
    "                      (data['week_no'] < data['week_no'].max() - (VAL_RANKER_WEEKS))]\n",
    "\n",
    "# берем данные для тренировки ranking модели\n",
    "data_train_ranker = data_val_matcher.copy()  # Для наглядности. Далее мы добавим изменения, и они будут отличаться\n",
    "\n",
    "# берем данные для теста ranking, matching модели\n",
    "data_val_ranker = data[data['week_no'] >= data['week_no'].max() - VAL_RANKER_WEEKS]"
   ]
  },
  {
   "cell_type": "code",
   "execution_count": 8,
   "metadata": {},
   "outputs": [],
   "source": [
    "# сделаем объединенный сет данных для первого уровня (матчинга)\n",
    "df_join_train_matcher = pd.concat([data_train_matcher, data_val_matcher])\n",
    "#df_join_train_matcher = data_train_matcher"
   ]
  },
  {
   "cell_type": "code",
   "execution_count": 9,
   "metadata": {},
   "outputs": [],
   "source": [
    "def print_stats_data(df_data, name_df):\n",
    "    print(name_df)\n",
    "    print(f\"Shape: {df_data.shape} Users: {df_data[USER_COL].nunique()} Items: {df_data[ITEM_COL].nunique()}\")"
   ]
  },
  {
   "cell_type": "code",
   "execution_count": 10,
   "metadata": {
    "scrolled": true
   },
   "outputs": [
    {
     "name": "stdout",
     "output_type": "stream",
     "text": [
      "train_matcher\n",
      "Shape: (2024256, 12) Users: 2498 Items: 82059\n",
      "val_matcher\n",
      "Shape: (254234, 12) Users: 2258 Items: 32634\n",
      "train_ranker\n",
      "Shape: (254234, 12) Users: 2258 Items: 32634\n",
      "val_ranker\n",
      "Shape: (118314, 12) Users: 2042 Items: 24329\n"
     ]
    }
   ],
   "source": [
    "print_stats_data(data_train_matcher,'train_matcher')\n",
    "print_stats_data(data_val_matcher,'val_matcher')\n",
    "print_stats_data(data_train_ranker,'train_ranker')\n",
    "print_stats_data(data_val_ranker,'val_ranker')"
   ]
  },
  {
   "cell_type": "code",
   "execution_count": 11,
   "metadata": {},
   "outputs": [],
   "source": [
    "# выше видим разброс по пользователям и товарам и дальше мы перейдем к warm-start (только известные пользователи)"
   ]
  },
  {
   "cell_type": "code",
   "execution_count": 12,
   "metadata": {},
   "outputs": [
    {
     "data": {
      "text/html": [
       "<div>\n",
       "<style scoped>\n",
       "    .dataframe tbody tr th:only-of-type {\n",
       "        vertical-align: middle;\n",
       "    }\n",
       "\n",
       "    .dataframe tbody tr th {\n",
       "        vertical-align: top;\n",
       "    }\n",
       "\n",
       "    .dataframe thead th {\n",
       "        text-align: right;\n",
       "    }\n",
       "</style>\n",
       "<table border=\"1\" class=\"dataframe\">\n",
       "  <thead>\n",
       "    <tr style=\"text-align: right;\">\n",
       "      <th></th>\n",
       "      <th>user_id</th>\n",
       "      <th>basket_id</th>\n",
       "      <th>day</th>\n",
       "      <th>item_id</th>\n",
       "      <th>quantity</th>\n",
       "      <th>sales_value</th>\n",
       "      <th>store_id</th>\n",
       "      <th>retail_disc</th>\n",
       "      <th>trans_time</th>\n",
       "      <th>week_no</th>\n",
       "      <th>coupon_disc</th>\n",
       "      <th>coupon_match_disc</th>\n",
       "    </tr>\n",
       "  </thead>\n",
       "  <tbody>\n",
       "    <tr>\n",
       "      <th>2019698</th>\n",
       "      <td>790</td>\n",
       "      <td>40341753006</td>\n",
       "      <td>573</td>\n",
       "      <td>1110624</td>\n",
       "      <td>1</td>\n",
       "      <td>3.59</td>\n",
       "      <td>31782</td>\n",
       "      <td>0.00</td>\n",
       "      <td>19</td>\n",
       "      <td>83</td>\n",
       "      <td>0.0</td>\n",
       "      <td>0.0</td>\n",
       "    </tr>\n",
       "    <tr>\n",
       "      <th>2019699</th>\n",
       "      <td>790</td>\n",
       "      <td>40341753006</td>\n",
       "      <td>573</td>\n",
       "      <td>5570406</td>\n",
       "      <td>1</td>\n",
       "      <td>1.67</td>\n",
       "      <td>31782</td>\n",
       "      <td>-1.92</td>\n",
       "      <td>19</td>\n",
       "      <td>83</td>\n",
       "      <td>0.0</td>\n",
       "      <td>0.0</td>\n",
       "    </tr>\n",
       "  </tbody>\n",
       "</table>\n",
       "</div>"
      ],
      "text/plain": [
       "         user_id    basket_id  day  item_id  quantity  sales_value  store_id  \\\n",
       "2019698      790  40341753006  573  1110624         1         3.59     31782   \n",
       "2019699      790  40341753006  573  5570406         1         1.67     31782   \n",
       "\n",
       "         retail_disc  trans_time  week_no  coupon_disc  coupon_match_disc  \n",
       "2019698         0.00          19       83          0.0                0.0  \n",
       "2019699        -1.92          19       83          0.0                0.0  "
      ]
     },
     "execution_count": 12,
     "metadata": {},
     "output_type": "execute_result"
    }
   ],
   "source": [
    "data_val_matcher.head(2)"
   ]
  },
  {
   "cell_type": "markdown",
   "metadata": {},
   "source": [
    "# Prefilter items"
   ]
  },
  {
   "cell_type": "code",
   "execution_count": 13,
   "metadata": {
    "scrolled": false
   },
   "outputs": [
    {
     "name": "stderr",
     "output_type": "stream",
     "text": [
      "/Users/ivanbovsunovskii/Downloads/course_project (1)/utils.py:20: SettingWithCopyWarning: \n",
      "A value is trying to be set on a copy of a slice from a DataFrame.\n",
      "Try using .loc[row_indexer,col_indexer] = value instead\n",
      "\n",
      "See the caveats in the documentation: https://pandas.pydata.org/pandas-docs/stable/user_guide/indexing.html#returning-a-view-versus-a-copy\n",
      "  data['price'] = data['sales_value'] / (np.maximum(data['quantity'], 1))\n"
     ]
    },
    {
     "name": "stdout",
     "output_type": "stream",
     "text": [
      "Decreased # items from 82059 to 2101\n"
     ]
    }
   ],
   "source": [
    "n_items_before = data_train_matcher['item_id'].nunique()\n",
    "\n",
    "n_popular = 2100\n",
    "\n",
    "data_train_matcher = prefilter_items(data_train_matcher, item_features=item_features, take_n_popular=n_popular)\n",
    "\n",
    "n_items_after = data_train_matcher['item_id'].nunique()\n",
    "print('Decreased # items from {} to {}'.format(n_items_before, n_items_after))"
   ]
  },
  {
   "cell_type": "markdown",
   "metadata": {},
   "source": [
    "# Make cold-start to warm-start"
   ]
  },
  {
   "cell_type": "code",
   "execution_count": 14,
   "metadata": {},
   "outputs": [
    {
     "name": "stdout",
     "output_type": "stream",
     "text": [
      "train_matcher\n",
      "Shape: (759224, 13) Users: 1966 Items: 2101\n",
      "val_matcher\n",
      "Shape: (244305, 12) Users: 1966 Items: 32059\n",
      "train_ranker\n",
      "Shape: (244305, 12) Users: 1966 Items: 32059\n",
      "val_ranker\n",
      "Shape: (116866, 12) Users: 1966 Items: 24195\n"
     ]
    }
   ],
   "source": [
    "# ищем общих пользователей\n",
    "common_users = list(set(data_train_matcher.user_id.values)&(set(data_val_matcher.user_id.values))&set(data_val_ranker.user_id.values))\n",
    "\n",
    "#выбираем товары из подготовленного набора\n",
    "prefiltered_items = list(set(data_train_matcher['item_id']))\n",
    "\n",
    "# оставляем общих пользователей\n",
    "data_train_matcher = data_train_matcher[data_train_matcher.user_id.isin(common_users)]\n",
    "data_val_matcher = data_val_matcher[data_val_matcher.user_id.isin(common_users)]\n",
    "data_train_ranker = data_train_ranker[data_train_ranker.user_id.isin(common_users)]\n",
    "data_val_ranker = data_val_ranker[data_val_ranker.user_id.isin(common_users)]\n",
    "\n",
    "#оставляем подготовленные товары по всем массивам данных\n",
    "#data_val_matcher = data_val_matcher[data_val_matcher.item_id.isin(prefiltered_items)]\n",
    "#data_train_ranker = data_train_ranker[data_train_ranker.item_id.isin(prefiltered_items)]\n",
    "#data_val_ranker = data_val_ranker[data_val_ranker.item_id.isin(prefiltered_items)]\n",
    "\n",
    "\n",
    "print_stats_data(data_train_matcher,'train_matcher')\n",
    "print_stats_data(data_val_matcher,'val_matcher')\n",
    "print_stats_data(data_train_ranker,'train_ranker')\n",
    "print_stats_data(data_val_ranker,'val_ranker')"
   ]
  },
  {
   "cell_type": "code",
   "execution_count": 15,
   "metadata": {},
   "outputs": [
    {
     "data": {
      "text/html": [
       "<div>\n",
       "<style scoped>\n",
       "    .dataframe tbody tr th:only-of-type {\n",
       "        vertical-align: middle;\n",
       "    }\n",
       "\n",
       "    .dataframe tbody tr th {\n",
       "        vertical-align: top;\n",
       "    }\n",
       "\n",
       "    .dataframe thead th {\n",
       "        text-align: right;\n",
       "    }\n",
       "</style>\n",
       "<table border=\"1\" class=\"dataframe\">\n",
       "  <thead>\n",
       "    <tr style=\"text-align: right;\">\n",
       "      <th></th>\n",
       "      <th>user_id</th>\n",
       "      <th>basket_id</th>\n",
       "      <th>day</th>\n",
       "      <th>item_id</th>\n",
       "      <th>quantity</th>\n",
       "      <th>sales_value</th>\n",
       "      <th>store_id</th>\n",
       "      <th>retail_disc</th>\n",
       "      <th>trans_time</th>\n",
       "      <th>week_no</th>\n",
       "      <th>coupon_disc</th>\n",
       "      <th>coupon_match_disc</th>\n",
       "      <th>price</th>\n",
       "    </tr>\n",
       "  </thead>\n",
       "  <tbody>\n",
       "    <tr>\n",
       "      <th>7</th>\n",
       "      <td>2375</td>\n",
       "      <td>26984851516</td>\n",
       "      <td>1</td>\n",
       "      <td>1085983</td>\n",
       "      <td>1</td>\n",
       "      <td>2.99</td>\n",
       "      <td>364</td>\n",
       "      <td>-0.40</td>\n",
       "      <td>1642</td>\n",
       "      <td>1</td>\n",
       "      <td>0.0</td>\n",
       "      <td>0.0</td>\n",
       "      <td>2.99</td>\n",
       "    </tr>\n",
       "    <tr>\n",
       "      <th>11</th>\n",
       "      <td>1364</td>\n",
       "      <td>26984896261</td>\n",
       "      <td>1</td>\n",
       "      <td>999999</td>\n",
       "      <td>1</td>\n",
       "      <td>2.19</td>\n",
       "      <td>31742</td>\n",
       "      <td>0.00</td>\n",
       "      <td>1520</td>\n",
       "      <td>1</td>\n",
       "      <td>0.0</td>\n",
       "      <td>0.0</td>\n",
       "      <td>2.19</td>\n",
       "    </tr>\n",
       "    <tr>\n",
       "      <th>12</th>\n",
       "      <td>1364</td>\n",
       "      <td>26984896261</td>\n",
       "      <td>1</td>\n",
       "      <td>999999</td>\n",
       "      <td>1</td>\n",
       "      <td>2.99</td>\n",
       "      <td>31742</td>\n",
       "      <td>-0.40</td>\n",
       "      <td>1520</td>\n",
       "      <td>1</td>\n",
       "      <td>0.0</td>\n",
       "      <td>0.0</td>\n",
       "      <td>2.99</td>\n",
       "    </tr>\n",
       "    <tr>\n",
       "      <th>13</th>\n",
       "      <td>1364</td>\n",
       "      <td>26984896261</td>\n",
       "      <td>1</td>\n",
       "      <td>999999</td>\n",
       "      <td>1</td>\n",
       "      <td>3.09</td>\n",
       "      <td>31742</td>\n",
       "      <td>0.00</td>\n",
       "      <td>1520</td>\n",
       "      <td>1</td>\n",
       "      <td>0.0</td>\n",
       "      <td>0.0</td>\n",
       "      <td>3.09</td>\n",
       "    </tr>\n",
       "    <tr>\n",
       "      <th>14</th>\n",
       "      <td>1364</td>\n",
       "      <td>26984896261</td>\n",
       "      <td>1</td>\n",
       "      <td>999999</td>\n",
       "      <td>1</td>\n",
       "      <td>2.50</td>\n",
       "      <td>31742</td>\n",
       "      <td>-0.99</td>\n",
       "      <td>1520</td>\n",
       "      <td>1</td>\n",
       "      <td>0.0</td>\n",
       "      <td>0.0</td>\n",
       "      <td>2.50</td>\n",
       "    </tr>\n",
       "  </tbody>\n",
       "</table>\n",
       "</div>"
      ],
      "text/plain": [
       "    user_id    basket_id  day  item_id  quantity  sales_value  store_id  \\\n",
       "7      2375  26984851516    1  1085983         1         2.99       364   \n",
       "11     1364  26984896261    1   999999         1         2.19     31742   \n",
       "12     1364  26984896261    1   999999         1         2.99     31742   \n",
       "13     1364  26984896261    1   999999         1         3.09     31742   \n",
       "14     1364  26984896261    1   999999         1         2.50     31742   \n",
       "\n",
       "    retail_disc  trans_time  week_no  coupon_disc  coupon_match_disc  price  \n",
       "7         -0.40        1642        1          0.0                0.0   2.99  \n",
       "11         0.00        1520        1          0.0                0.0   2.19  \n",
       "12        -0.40        1520        1          0.0                0.0   2.99  \n",
       "13         0.00        1520        1          0.0                0.0   3.09  \n",
       "14        -0.99        1520        1          0.0                0.0   2.50  "
      ]
     },
     "execution_count": 15,
     "metadata": {},
     "output_type": "execute_result"
    }
   ],
   "source": [
    "data_train_matcher.head()"
   ]
  },
  {
   "cell_type": "markdown",
   "metadata": {},
   "source": [
    "# Init/train recommender"
   ]
  },
  {
   "cell_type": "code",
   "execution_count": 16,
   "metadata": {},
   "outputs": [],
   "source": [
    "def recommended_items(calc_type, users_list, number_items, function):\n",
    "    if calc_type == 0:\n",
    "        return [function(user, number_items) for user in users_list]\n",
    "    elif calc_type == 1:\n",
    "        return users_list.apply(lambda x: function(x, N=number_items))\n",
    "    else:\n",
    "        return list(map(lambda x: function(x, N=number_items), users_list))"
   ]
  },
  {
   "cell_type": "code",
   "execution_count": 17,
   "metadata": {},
   "outputs": [],
   "source": [
    "def calc_recall(df_data, top_k):\n",
    "    for col_name in df_data.columns[2:]:\n",
    "        yield col_name, df_data.apply(lambda row: recall_at_k(row[col_name], row[ACTUAL_COL], k=top_k), axis=1).mean()"
   ]
  },
  {
   "cell_type": "code",
   "execution_count": 18,
   "metadata": {},
   "outputs": [],
   "source": [
    "def calc_precision(df_data, top_k):\n",
    "    for col_name in df_data.columns[2:]:\n",
    "        yield col_name, df_data.apply(lambda row: precision_at_k(row[col_name], row[ACTUAL_COL], k=top_k), axis=1).mean()"
   ]
  },
  {
   "cell_type": "code",
   "execution_count": 19,
   "metadata": {},
   "outputs": [
    {
     "name": "stderr",
     "output_type": "stream",
     "text": [
      "WARNING:root:Intel MKL BLAS detected. Its highly recommend to set the environment variable 'export MKL_NUM_THREADS=1' to disable its internal multithreading\n"
     ]
    },
    {
     "data": {
      "application/vnd.jupyter.widget-view+json": {
       "model_id": "3fc08a4380c34f7395a4a8d70fdef4c1",
       "version_major": 2,
       "version_minor": 0
      },
      "text/plain": [
       "  0%|          | 0/35 [00:00<?, ?it/s]"
      ]
     },
     "metadata": {},
     "output_type": "display_data"
    },
    {
     "data": {
      "application/vnd.jupyter.widget-view+json": {
       "model_id": "d9e43f6ac0d94c7c83143a58e346c4d1",
       "version_major": 2,
       "version_minor": 0
      },
      "text/plain": [
       "  0%|          | 0/2101 [00:00<?, ?it/s]"
      ]
     },
     "metadata": {},
     "output_type": "display_data"
    }
   ],
   "source": [
    "recommender = MainRecommender(data_train_matcher, weighting='bm25', B=0.895, \n",
    "                              n_factors=200, regularization=0.001, iterations=35, num_threads=4, \n",
    "                              K=1)"
   ]
  },
  {
   "cell_type": "code",
   "execution_count": 20,
   "metadata": {},
   "outputs": [],
   "source": [
    "from hyperopt import fmin, tpe, hp, Trials\n",
    "n_iter = 50\n",
    "random_st = 12\n",
    "\n",
    "def score_func(params, data=data_train_matcher, TOPK_PRECISION = 5):\n",
    "    \n",
    "    #print(f'{params}')\n",
    "    \n",
    "    # the function gets a set of variable parameters in \"param\"\n",
    "    model_params = {'weighting': params['weighting'],\n",
    "                    'B': params['B'],\n",
    "                    'K1': int(params['K1']),\n",
    "                    'n_factors': int(params['n_factors']),\n",
    "                    'regularization': params['regularization'],\n",
    "                    'iterations': int(params['iterations']),\n",
    "                    'num_threads': params['num_threads'],\n",
    "                    'K': int(params['K'])\n",
    "                   }\n",
    "    recommendation_model = params['model']\n",
    "    \n",
    "    # we use this params to create a new CatBoost model\n",
    "    recommender = MainRecommender(data, **model_params)\n",
    "\n",
    "    result_eval = data.groupby(USER_COL)[ITEM_COL].unique().reset_index()\n",
    "    result_eval.columns=[USER_COL, ACTUAL_COL]\n",
    "    \n",
    "    if recommendation_model == 'own_rec':\n",
    "        result_eval['own_rec'] = recommended_items(0, result_eval[USER_COL], N_PREDICT, recommender.get_own_recommendations)\n",
    "    else:\n",
    "        result_eval['als_rec'] = recommended_items(0, result_eval[USER_COL], N_PREDICT, recommender.get_als_recommendations)\n",
    "    TOPK_PRECISION = 5\n",
    "    TOPK_RECALL = 50\n",
    "    # precision\n",
    "    current_precision = sorted(calc_precision(result_eval, TOPK_PRECISION), \n",
    "                               key=lambda x: x[1], reverse=True)[0][1]\n",
    "\n",
    "    if current_precision > 0:\n",
    "        score = 1/current_precision\n",
    "    else:\n",
    "        score = 1e100\n",
    "    \n",
    "    return score"
   ]
  },
  {
   "cell_type": "code",
   "execution_count": 21,
   "metadata": {},
   "outputs": [
    {
     "data": {
      "text/plain": [
       "'best=fmin(score_func, # function to optimize\\n          space=param, \\n          algo=tpe.suggest, # optimization algorithm, hyperotp will select its parameters automatically\\n          max_evals=n_iter, # maximum number of iterations\\n         )\\nbest'"
      ]
     },
     "execution_count": 21,
     "metadata": {},
     "output_type": "execute_result"
    }
   ],
   "source": [
    "\"\"\"param={'weighting': hp.choice('weighting', ['bm25','tfidf']),\n",
    "       'B': hp.uniform('B', 0.8, 0.9),\n",
    "       'K1': hp.quniform('iterations', 50, 200, 10),\n",
    "       'n_factors': hp.quniform('n_factors', 100, 300, 4),\n",
    "       'regularization': hp.uniform('regularization', 0.001, 0.005),\n",
    "       'iterations': hp.quniform('iterations', 30, 60, 2),\n",
    "       'num_threads': 4,\n",
    "       'K': hp.choice('K', [1, 2, 3]),\n",
    "       'model': hp.choice('model', ['own_rec', 'als_rec'])\n",
    "      }\"\"\"\n",
    "\"\"\"param={'weighting': hp.choice('weighting', ['bm25','tfidf']),\n",
    "       'B': hp.uniform('B', 0.87, 0.9),\n",
    "       'K1': hp.quniform('K1', 130, 180, 10),\n",
    "       'n_factors': hp.quniform('n_factors', 300, 340, 2),\n",
    "       'regularization': hp.uniform('regularization', 0.0044, 0.005),\n",
    "       'iterations': hp.quniform('iterations', 42, 50, 1),\n",
    "       'num_threads': 4,\n",
    "       'K': hp.choice('K', [1, 2]),\n",
    "       'model': hp.choice('model', ['own_rec', 'als_rec'])\n",
    "      }\"\"\"\n",
    "\"\"\"param={'weighting': hp.choice('weighting', ['bm25']),\n",
    "       'B': hp.uniform('B', 0.89, 0.9),\n",
    "       'K1': hp.quniform('K1', 130, 150, 10),\n",
    "       'n_factors': hp.quniform('n_factors', 304, 312, 2),\n",
    "       'regularization': hp.uniform('regularization', 0.0047, 0.0048),\n",
    "       'iterations': hp.quniform('iterations', 42, 45, 1),\n",
    "       'num_threads': 4,\n",
    "       'K': hp.choice('K', [1]),\n",
    "       'model': hp.choice('model', ['als_rec'])\n",
    "      }\"\"\"\n",
    "\"\"\"param={'weighting': hp.choice('weighting', ['bm25', 'tfidf']),\n",
    "       'B': 0.8916824806796836,\n",
    "       'K1': 140,\n",
    "       'K': 1,\n",
    "       'n_factors': hp.quniform('n_factors', 290, 350, 2),\n",
    "       'regularization': hp.uniform('regularization', 0.0044, 0.0052),\n",
    "       'iterations': hp.quniform('iterations', 42, 46, 1),\n",
    "       'num_threads': 4,\n",
    "       'model': hp.choice('model', ['als_rec'])\n",
    "      }\"\"\"\n",
    "param={'weighting': hp.choice('weighting', ['bm25']),\n",
    "       'B': hp.uniform('B', 0.89, 0.9),\n",
    "       'K1': 150,\n",
    "       'K': 1,\n",
    "       'n_factors': hp.quniform('n_factors', 190, 350, 2),\n",
    "       'regularization': hp.uniform('regularization', 0.001, 0.0052),\n",
    "       'iterations': hp.quniform('iterations', 30, 46, 1),\n",
    "       'num_threads': 4,\n",
    "       'model': hp.choice('model', ['als_rec'])\n",
    "      }\n",
    "\n",
    "\"\"\"best=fmin(score_func, # function to optimize\n",
    "          space=param, \n",
    "          algo=tpe.suggest, # optimization algorithm, hyperotp will select its parameters automatically\n",
    "          max_evals=n_iter, # maximum number of iterations\n",
    "         )\n",
    "best\"\"\""
   ]
  },
  {
   "cell_type": "code",
   "execution_count": 22,
   "metadata": {},
   "outputs": [
    {
     "data": {
      "text/plain": [
       "\"{'B': 0.6521514604522011,\\n 'K': 1,\\n 'iterations': 43.0,\\n 'model': 1,\\n 'n_factors': 299.0,\\n 'regularization': 0.00385482503376726,\\n 'weighting': 1}\\n \\n {'B': 0.8916824806796836,\\n 'K': 1,\\n 'K1': 140.0,\\n 'iterations': 44.0,\\n 'model': 1,\\n 'n_factors': 310.0,\\n 'regularization': 0.0047527371557352415,\\n 'weighting': 1}\\n \\n {'B': 0.8871774904286023,\\n 'K': 1,\\n 'iteration_n': 44.0,\\n 'iterations': 150.0,\\n 'model': 'als_rec',\\n 'n_factors': 316.0,\\n 'regularization': 0.004702184365679667,\\n 'weighting': 'tfidf'}\\n \\n {'B': 0.8911317242721445,\\n 'K': 0,\\n 'K1': 150.0,\\n 'iterations': 44.0,\\n 'model': 0,\\n 'n_factors': 306.0,\\n 'regularization': 0.004749095065273229,\\n 'weighting': 0}\\n \\n \\n {'B': 0.8965492275035548,\\n 'iterations': 42.0,\\n 'model': 0,\\n 'n_factors': 190.0,\\n 'regularization': 0.0011024214998912698,\\n 'weighting': 0}\\n\""
      ]
     },
     "execution_count": 22,
     "metadata": {},
     "output_type": "execute_result"
    }
   ],
   "source": [
    "\"\"\"{'B': 0.6521514604522011,\n",
    " 'K': 1,\n",
    " 'iterations': 43.0,\n",
    " 'model': 1,\n",
    " 'n_factors': 299.0,\n",
    " 'regularization': 0.00385482503376726,\n",
    " 'weighting': 1}\n",
    " \n",
    " {'B': 0.8916824806796836,\n",
    " 'K': 1,\n",
    " 'K1': 140.0,\n",
    " 'iterations': 44.0,\n",
    " 'model': 1,\n",
    " 'n_factors': 310.0,\n",
    " 'regularization': 0.0047527371557352415,\n",
    " 'weighting': 1}\n",
    " \n",
    " {'B': 0.8871774904286023,\n",
    " 'K': 1,\n",
    " 'iteration_n': 44.0,\n",
    " 'iterations': 150.0,\n",
    " 'model': 'als_rec',\n",
    " 'n_factors': 316.0,\n",
    " 'regularization': 0.004702184365679667,\n",
    " 'weighting': 'tfidf'}\n",
    " \n",
    " {'B': 0.8911317242721445,\n",
    " 'K': 0,\n",
    " 'K1': 150.0,\n",
    " 'iterations': 44.0,\n",
    " 'model': 0,\n",
    " 'n_factors': 306.0,\n",
    " 'regularization': 0.004749095065273229,\n",
    " 'weighting': 0}\n",
    " \n",
    " \n",
    " {'B': 0.8965492275035548,\n",
    " 'iterations': 42.0,\n",
    " 'model': 0,\n",
    " 'n_factors': 190.0,\n",
    " 'regularization': 0.0011024214998912698,\n",
    " 'weighting': 0}\n",
    "\"\"\""
   ]
  },
  {
   "cell_type": "code",
   "execution_count": 23,
   "metadata": {},
   "outputs": [],
   "source": [
    "best = {'B': 0.8965492275035548,\n",
    "        'iterations': 42.0,\n",
    "        'model': 'als_rec',\n",
    "        'n_factors': 190.0,\n",
    "        'regularization': 0.0011024214998912698,\n",
    "        'weighting': 'bm25',\n",
    "        'K': 1\n",
    "       }\n",
    " "
   ]
  },
  {
   "cell_type": "code",
   "execution_count": 24,
   "metadata": {},
   "outputs": [
    {
     "data": {
      "text/plain": [
       "\"recommender = MainRecommender(data_train_matcher, weighting=best['weighting'],\\n                              B=best['B'], n_factors=int(best['n_factors']),\\n                              regularization=best['regularization'], iterations=int(best['iterations']),\\n                             num_threads=4, K=int(best['K'])\\n                             )\""
      ]
     },
     "execution_count": 24,
     "metadata": {},
     "output_type": "execute_result"
    }
   ],
   "source": [
    "\"\"\"recommender = MainRecommender(data_train_matcher, weighting=best['weighting'],\n",
    "                              B=best['B'], n_factors=int(best['n_factors']),\n",
    "                              regularization=best['regularization'], iterations=int(best['iterations']),\n",
    "                             num_threads=4, K=int(best['K'])\n",
    "                             )\"\"\""
   ]
  },
  {
   "cell_type": "code",
   "execution_count": 25,
   "metadata": {},
   "outputs": [
    {
     "data": {
      "text/plain": [
       "('bm25', <hyperopt.pyll.base.Apply at 0x7f81d2088eb0>)"
      ]
     },
     "execution_count": 25,
     "metadata": {},
     "output_type": "execute_result"
    }
   ],
   "source": [
    "best['weighting'], param['weighting'][1]"
   ]
  },
  {
   "cell_type": "markdown",
   "metadata": {},
   "source": [
    "### Варианты, как получить кандидатов\n",
    "\n",
    "Можно потом все эти варианты соединить в один\n",
    "\n",
    "(!) Если модель рекомендует < N товаров, то рекомендации дополняются топ-популярными товарами до N"
   ]
  },
  {
   "cell_type": "markdown",
   "metadata": {},
   "source": [
    "# Eval recall of matching"
   ]
  },
  {
   "cell_type": "markdown",
   "metadata": {},
   "source": [
    "### Измеряем recall@k"
   ]
  },
  {
   "cell_type": "code",
   "execution_count": 26,
   "metadata": {
    "scrolled": true
   },
   "outputs": [
    {
     "data": {
      "text/html": [
       "<div>\n",
       "<style scoped>\n",
       "    .dataframe tbody tr th:only-of-type {\n",
       "        vertical-align: middle;\n",
       "    }\n",
       "\n",
       "    .dataframe tbody tr th {\n",
       "        vertical-align: top;\n",
       "    }\n",
       "\n",
       "    .dataframe thead th {\n",
       "        text-align: right;\n",
       "    }\n",
       "</style>\n",
       "<table border=\"1\" class=\"dataframe\">\n",
       "  <thead>\n",
       "    <tr style=\"text-align: right;\">\n",
       "      <th></th>\n",
       "      <th>user_id</th>\n",
       "      <th>actual</th>\n",
       "    </tr>\n",
       "  </thead>\n",
       "  <tbody>\n",
       "    <tr>\n",
       "      <th>0</th>\n",
       "      <td>1</td>\n",
       "      <td>[836548, 856942, 877391, 933913, 948420, 10368...</td>\n",
       "    </tr>\n",
       "    <tr>\n",
       "      <th>1</th>\n",
       "      <td>3</td>\n",
       "      <td>[946839, 953476, 1053690]</td>\n",
       "    </tr>\n",
       "  </tbody>\n",
       "</table>\n",
       "</div>"
      ],
      "text/plain": [
       "   user_id                                             actual\n",
       "0        1  [836548, 856942, 877391, 933913, 948420, 10368...\n",
       "1        3                          [946839, 953476, 1053690]"
      ]
     },
     "execution_count": 26,
     "metadata": {},
     "output_type": "execute_result"
    }
   ],
   "source": [
    "result_eval_matcher = data_val_matcher.groupby(USER_COL)[ITEM_COL].unique().reset_index()\n",
    "result_eval_matcher.columns=[USER_COL, ACTUAL_COL]\n",
    "result_eval_matcher.head(2)"
   ]
  },
  {
   "cell_type": "code",
   "execution_count": 27,
   "metadata": {},
   "outputs": [],
   "source": [
    "#result_eval_matcher['own_rec'] = recommended_items(0, result_eval_matcher[USER_COL], N_PREDICT, recommender.get_own_recommendations)"
   ]
  },
  {
   "cell_type": "markdown",
   "metadata": {},
   "source": [
    "### Пример оборачивания"
   ]
  },
  {
   "cell_type": "code",
   "execution_count": 28,
   "metadata": {},
   "outputs": [],
   "source": [
    "def evalRecall(df_result, target_col_name, recommend_model, result_col_name='result', \n",
    "               actual_col = 'actual', N_PREDICT=50, inplace = False):\n",
    "    df_result[result_col_name] = recommended_items(0, df_result[target_col_name], N_PREDICT, recommend_model)\n",
    "    result = np.mean([recall_at_k(a, b, k=N_PREDICT) for a,b in zip(df_result[result_col_name], df_result[actual_col])])\n",
    "    if not(inplace):\n",
    "        df_result.drop(columns=result_col_name, inplace=True)\n",
    "    return result"
   ]
  },
  {
   "cell_type": "code",
   "execution_count": 29,
   "metadata": {},
   "outputs": [],
   "source": [
    "def evalPrecision(df_result, target_col_name, recommend_model, result_col_name='result', \n",
    "                  actual_col = 'actual', N_PREDICT=50, inplace = False):\n",
    "    df_result[result_col_name] = recommended_items(0, df_result[target_col_name], N_PREDICT, recommend_model)\n",
    "    result = np.mean([precision_at_k(a, b, k=N_PREDICT) for a,b in zip(df_result[result_col_name], df_result[actual_col])])\n",
    "    if not(inplace):\n",
    "        df_result.drop(columns=result_col_name, inplace=True)\n",
    "    return result"
   ]
  },
  {
   "cell_type": "code",
   "execution_count": 30,
   "metadata": {},
   "outputs": [],
   "source": [
    "# evalRecall(result_eval_matcher, USER_COL, recommender.get_own_recommendations)"
   ]
  },
  {
   "cell_type": "markdown",
   "metadata": {},
   "source": [
    "### Recall@50 of matching"
   ]
  },
  {
   "cell_type": "code",
   "execution_count": 31,
   "metadata": {},
   "outputs": [],
   "source": [
    "TOPK_RECALL = 50"
   ]
  },
  {
   "cell_type": "code",
   "execution_count": 32,
   "metadata": {
    "scrolled": false
   },
   "outputs": [],
   "source": [
    "#sorted(calc_recall(result_eval_matcher, TOPK_RECALL), key=lambda x: x[1],reverse=True)"
   ]
  },
  {
   "cell_type": "markdown",
   "metadata": {},
   "source": [
    "### Precision@5 of matching"
   ]
  },
  {
   "cell_type": "code",
   "execution_count": 33,
   "metadata": {},
   "outputs": [],
   "source": [
    "TOPK_PRECISION = 5"
   ]
  },
  {
   "cell_type": "code",
   "execution_count": 34,
   "metadata": {},
   "outputs": [],
   "source": [
    "#sorted(calc_precision(result_eval_matcher, TOPK_PRECISION), key=lambda x: x[1],reverse=True)"
   ]
  },
  {
   "cell_type": "markdown",
   "metadata": {},
   "source": [
    "# Ranking part"
   ]
  },
  {
   "cell_type": "markdown",
   "metadata": {},
   "source": [
    "### Обучаем модель 2-ого уровня на выбранных кандидатах\n",
    "\n",
    "- Обучаем на data_train_ranking\n",
    "- Обучаем *только* на выбранных кандидатах"
   ]
  },
  {
   "cell_type": "code",
   "execution_count": 35,
   "metadata": {},
   "outputs": [],
   "source": [
    "# -- давние покупки -- | -- 7 недель -- | -- 4 недель -- "
   ]
  },
  {
   "cell_type": "markdown",
   "metadata": {},
   "source": [
    "## Подготовка данных для трейна"
   ]
  },
  {
   "cell_type": "code",
   "execution_count": 36,
   "metadata": {},
   "outputs": [],
   "source": [
    "# взяли пользователей из трейна для ранжирования\n",
    "df_match_candidates = pd.DataFrame(data_train_ranker[USER_COL].unique())\n",
    "df_match_candidates.columns = [USER_COL]"
   ]
  },
  {
   "cell_type": "code",
   "execution_count": 37,
   "metadata": {},
   "outputs": [],
   "source": [
    "# собираем кандитатов с первого этапа (matcher)\n",
    "\"\"\"if best['model']=='own_rec':\n",
    "    df_match_candidates['candidates'] = recommended_items(0, df_match_candidates[USER_COL], N_PREDICT, recommender.get_own_recommendations)\n",
    "else:\"\"\"\n",
    "df_match_candidates['candidates'] = recommended_items(0, df_match_candidates[USER_COL], N_PREDICT, recommender.get_als_recommendations)"
   ]
  },
  {
   "cell_type": "code",
   "execution_count": 38,
   "metadata": {},
   "outputs": [
    {
     "data": {
      "text/html": [
       "<div>\n",
       "<style scoped>\n",
       "    .dataframe tbody tr th:only-of-type {\n",
       "        vertical-align: middle;\n",
       "    }\n",
       "\n",
       "    .dataframe tbody tr th {\n",
       "        vertical-align: top;\n",
       "    }\n",
       "\n",
       "    .dataframe thead th {\n",
       "        text-align: right;\n",
       "    }\n",
       "</style>\n",
       "<table border=\"1\" class=\"dataframe\">\n",
       "  <thead>\n",
       "    <tr style=\"text-align: right;\">\n",
       "      <th></th>\n",
       "      <th>user_id</th>\n",
       "      <th>candidates</th>\n",
       "    </tr>\n",
       "  </thead>\n",
       "  <tbody>\n",
       "    <tr>\n",
       "      <th>0</th>\n",
       "      <td>790</td>\n",
       "      <td>[1112238, 1029743, 878996, 5569230, 5574377, 5...</td>\n",
       "    </tr>\n",
       "    <tr>\n",
       "      <th>1</th>\n",
       "      <td>1795</td>\n",
       "      <td>[986912, 1105488, 1127179, 5568489, 838186, 82...</td>\n",
       "    </tr>\n",
       "  </tbody>\n",
       "</table>\n",
       "</div>"
      ],
      "text/plain": [
       "   user_id                                         candidates\n",
       "0      790  [1112238, 1029743, 878996, 5569230, 5574377, 5...\n",
       "1     1795  [986912, 1105488, 1127179, 5568489, 838186, 82..."
      ]
     },
     "execution_count": 38,
     "metadata": {},
     "output_type": "execute_result"
    }
   ],
   "source": [
    "df_match_candidates.head(2)"
   ]
  },
  {
   "cell_type": "code",
   "execution_count": 39,
   "metadata": {},
   "outputs": [],
   "source": [
    "# разворачиваем товары\n",
    "df_items = df_match_candidates.apply(lambda x: pd.Series(x['candidates']), axis=1).stack().reset_index(level=1, drop=True)\n",
    "df_items.name = 'item_id'"
   ]
  },
  {
   "cell_type": "code",
   "execution_count": 40,
   "metadata": {},
   "outputs": [],
   "source": [
    "df_match_candidates = df_match_candidates.drop('candidates', axis=1).join(df_items)"
   ]
  },
  {
   "cell_type": "code",
   "execution_count": 41,
   "metadata": {},
   "outputs": [],
   "source": [
    "#df_match_candidates.head(4)"
   ]
  },
  {
   "cell_type": "markdown",
   "metadata": {},
   "source": [
    "### Check warm start"
   ]
  },
  {
   "cell_type": "code",
   "execution_count": 42,
   "metadata": {
    "scrolled": true
   },
   "outputs": [
    {
     "name": "stdout",
     "output_type": "stream",
     "text": [
      "match_candidates\n",
      "Shape: (196600, 2) Users: 1966 Items: 298\n"
     ]
    }
   ],
   "source": [
    "print_stats_data(df_match_candidates, 'match_candidates')"
   ]
  },
  {
   "cell_type": "markdown",
   "metadata": {},
   "source": [
    "### Создаем трейн сет для ранжирования с учетом кандидатов с этапа 1 "
   ]
  },
  {
   "cell_type": "code",
   "execution_count": 43,
   "metadata": {},
   "outputs": [
    {
     "data": {
      "text/html": [
       "<div>\n",
       "<style scoped>\n",
       "    .dataframe tbody tr th:only-of-type {\n",
       "        vertical-align: middle;\n",
       "    }\n",
       "\n",
       "    .dataframe tbody tr th {\n",
       "        vertical-align: top;\n",
       "    }\n",
       "\n",
       "    .dataframe thead th {\n",
       "        text-align: right;\n",
       "    }\n",
       "</style>\n",
       "<table border=\"1\" class=\"dataframe\">\n",
       "  <thead>\n",
       "    <tr style=\"text-align: right;\">\n",
       "      <th></th>\n",
       "      <th>user_id</th>\n",
       "      <th>basket_id</th>\n",
       "      <th>day</th>\n",
       "      <th>item_id</th>\n",
       "      <th>quantity</th>\n",
       "      <th>sales_value</th>\n",
       "      <th>store_id</th>\n",
       "      <th>retail_disc</th>\n",
       "      <th>trans_time</th>\n",
       "      <th>week_no</th>\n",
       "      <th>coupon_disc</th>\n",
       "      <th>coupon_match_disc</th>\n",
       "    </tr>\n",
       "  </thead>\n",
       "  <tbody>\n",
       "    <tr>\n",
       "      <th>2019698</th>\n",
       "      <td>790</td>\n",
       "      <td>40341753006</td>\n",
       "      <td>573</td>\n",
       "      <td>1110624</td>\n",
       "      <td>1</td>\n",
       "      <td>3.59</td>\n",
       "      <td>31782</td>\n",
       "      <td>0.00</td>\n",
       "      <td>19</td>\n",
       "      <td>83</td>\n",
       "      <td>0.0</td>\n",
       "      <td>0.0</td>\n",
       "    </tr>\n",
       "    <tr>\n",
       "      <th>2019699</th>\n",
       "      <td>790</td>\n",
       "      <td>40341753006</td>\n",
       "      <td>573</td>\n",
       "      <td>5570406</td>\n",
       "      <td>1</td>\n",
       "      <td>1.67</td>\n",
       "      <td>31782</td>\n",
       "      <td>-1.92</td>\n",
       "      <td>19</td>\n",
       "      <td>83</td>\n",
       "      <td>0.0</td>\n",
       "      <td>0.0</td>\n",
       "    </tr>\n",
       "    <tr>\n",
       "      <th>2019700</th>\n",
       "      <td>790</td>\n",
       "      <td>40341753006</td>\n",
       "      <td>573</td>\n",
       "      <td>5995101</td>\n",
       "      <td>1</td>\n",
       "      <td>2.50</td>\n",
       "      <td>31782</td>\n",
       "      <td>-0.33</td>\n",
       "      <td>19</td>\n",
       "      <td>83</td>\n",
       "      <td>0.0</td>\n",
       "      <td>0.0</td>\n",
       "    </tr>\n",
       "    <tr>\n",
       "      <th>2019701</th>\n",
       "      <td>790</td>\n",
       "      <td>40341753006</td>\n",
       "      <td>573</td>\n",
       "      <td>5995177</td>\n",
       "      <td>1</td>\n",
       "      <td>2.50</td>\n",
       "      <td>31782</td>\n",
       "      <td>-0.33</td>\n",
       "      <td>19</td>\n",
       "      <td>83</td>\n",
       "      <td>0.0</td>\n",
       "      <td>0.0</td>\n",
       "    </tr>\n",
       "    <tr>\n",
       "      <th>2019702</th>\n",
       "      <td>1795</td>\n",
       "      <td>40341753025</td>\n",
       "      <td>573</td>\n",
       "      <td>890536</td>\n",
       "      <td>1</td>\n",
       "      <td>0.69</td>\n",
       "      <td>31782</td>\n",
       "      <td>0.00</td>\n",
       "      <td>100</td>\n",
       "      <td>83</td>\n",
       "      <td>0.0</td>\n",
       "      <td>0.0</td>\n",
       "    </tr>\n",
       "  </tbody>\n",
       "</table>\n",
       "</div>"
      ],
      "text/plain": [
       "         user_id    basket_id  day  item_id  quantity  sales_value  store_id  \\\n",
       "2019698      790  40341753006  573  1110624         1         3.59     31782   \n",
       "2019699      790  40341753006  573  5570406         1         1.67     31782   \n",
       "2019700      790  40341753006  573  5995101         1         2.50     31782   \n",
       "2019701      790  40341753006  573  5995177         1         2.50     31782   \n",
       "2019702     1795  40341753025  573   890536         1         0.69     31782   \n",
       "\n",
       "         retail_disc  trans_time  week_no  coupon_disc  coupon_match_disc  \n",
       "2019698         0.00          19       83          0.0                0.0  \n",
       "2019699        -1.92          19       83          0.0                0.0  \n",
       "2019700        -0.33          19       83          0.0                0.0  \n",
       "2019701        -0.33          19       83          0.0                0.0  \n",
       "2019702         0.00         100       83          0.0                0.0  "
      ]
     },
     "execution_count": 43,
     "metadata": {},
     "output_type": "execute_result"
    }
   ],
   "source": [
    "data_train_ranker.head()"
   ]
  },
  {
   "cell_type": "code",
   "execution_count": 44,
   "metadata": {},
   "outputs": [],
   "source": [
    "def df_preparation(data, keep_columns=[USER_COL, ITEM_COL, 'quantity', 'sales_value', 'retail_disc', \n",
    "                                       'week_no', 'store_id']):\n",
    "    data = data[keep_columns].copy()\n",
    "    return data"
   ]
  },
  {
   "cell_type": "code",
   "execution_count": 45,
   "metadata": {},
   "outputs": [],
   "source": [
    "#df_ranker_train = data_train_ranker[[USER_COL, ITEM_COL, 'basket_id', 'quantity', 'sales_value', 'retail_disc', 'week_no', 'store_id']].copy()\n",
    "#df_ranker_train = data_train_ranker[[USER_COL, ITEM_COL, 'basket_id', 'quantity', 'sales_value', 'retail_disc', 'week_no', 'store_id']].copy()\n",
    "columns = [USER_COL, ITEM_COL, 'quantity', 'sales_value', 'retail_disc', 'week_no', 'store_id']\n",
    "\n",
    "df_ranker_train = df_preparation(data_train_ranker, keep_columns=columns)\n",
    "df_ranker_train['target'] = 1  # тут только покупки \n",
    "\n",
    "df_ranker_train = df_match_candidates.merge(df_ranker_train, on=[USER_COL, ITEM_COL], how='left')\n",
    "df_ranker_train['target'].fillna(0, inplace= True)"
   ]
  },
  {
   "cell_type": "code",
   "execution_count": 46,
   "metadata": {},
   "outputs": [
    {
     "data": {
      "text/plain": [
       "0.0    185509\n",
       "1.0     18946\n",
       "Name: target, dtype: int64"
      ]
     },
     "execution_count": 46,
     "metadata": {},
     "output_type": "execute_result"
    }
   ],
   "source": [
    "df_ranker_train.target.value_counts()"
   ]
  },
  {
   "cell_type": "markdown",
   "metadata": {},
   "source": [
    "(!) На каждого юзера 50 item_id-кандидатов"
   ]
  },
  {
   "cell_type": "code",
   "execution_count": 47,
   "metadata": {},
   "outputs": [
    {
     "data": {
      "text/plain": [
       "0.09266586779486928"
      ]
     },
     "execution_count": 47,
     "metadata": {},
     "output_type": "execute_result"
    }
   ],
   "source": [
    "df_ranker_train['target'].mean()"
   ]
  },
  {
   "cell_type": "markdown",
   "metadata": {},
   "source": [
    "## Подготавливаем фичи для обучения модели"
   ]
  },
  {
   "cell_type": "markdown",
   "metadata": {},
   "source": [
    "### Описательные фичи"
   ]
  },
  {
   "cell_type": "code",
   "execution_count": 48,
   "metadata": {},
   "outputs": [],
   "source": [
    "#item_features.head(2)\n",
    "#user_features.head(2)"
   ]
  },
  {
   "cell_type": "code",
   "execution_count": 49,
   "metadata": {},
   "outputs": [],
   "source": [
    "def df_merge_features(data, item_features, user_features):\n",
    "    data = data.merge(item_features, on='item_id', how='left')\n",
    "    data = data.merge(user_features, on='user_id', how='left')\n",
    "    return data"
   ]
  },
  {
   "cell_type": "code",
   "execution_count": 50,
   "metadata": {},
   "outputs": [],
   "source": [
    "df_ranker_train = df_merge_features(df_ranker_train, item_features, user_features)\n"
   ]
  },
  {
   "cell_type": "markdown",
   "metadata": {},
   "source": [
    "**Фичи user_id:**\n",
    "    - Средний чек\n",
    "    - Средняя сумма покупки 1 товара в каждой категории\n",
    "    - Кол-во покупок в каждой категории\n",
    "    - Частотность покупок раз/месяц\n",
    "    - Долю покупок в выходные\n",
    "    - Долю покупок утром/днем/вечером\n",
    "\n",
    "**Фичи item_id**:\n",
    "    - Кол-во покупок в неделю\n",
    "    - Среднее ол-во покупок 1 товара в категории в неделю\n",
    "    - (Кол-во покупок в неделю) / (Среднее ол-во покупок 1 товара в категории в неделю)\n",
    "    - Цена (Можно посчитать из retil_train.csv)\n",
    "    - Цена / Средняя цена товара в категории\n",
    "    \n",
    "**Фичи пары user_id - item_id**\n",
    "    - (Средняя сумма покупки 1 товара в каждой категории (берем категорию item_id)) - (Цена item_id)\n",
    "    - (Кол-во покупок юзером конкретной категории в неделю) - (Среднее кол-во покупок всеми юзерами конкретной категории в неделю)\n",
    "    - (Кол-во покупок юзером конкретной категории в неделю) / (Среднее кол-во покупок всеми юзерами конкретной категории в неделю)"
   ]
  },
  {
   "cell_type": "markdown",
   "metadata": {},
   "source": [
    "### Поведенческие фичи\n",
    "\n",
    "##### Чтобы считать поведенческие фичи, нужно учесть все данные что были до data_val_ranker"
   ]
  },
  {
   "cell_type": "code",
   "execution_count": 51,
   "metadata": {},
   "outputs": [
    {
     "data": {
      "text/html": [
       "<div>\n",
       "<style scoped>\n",
       "    .dataframe tbody tr th:only-of-type {\n",
       "        vertical-align: middle;\n",
       "    }\n",
       "\n",
       "    .dataframe tbody tr th {\n",
       "        vertical-align: top;\n",
       "    }\n",
       "\n",
       "    .dataframe thead th {\n",
       "        text-align: right;\n",
       "    }\n",
       "</style>\n",
       "<table border=\"1\" class=\"dataframe\">\n",
       "  <thead>\n",
       "    <tr style=\"text-align: right;\">\n",
       "      <th></th>\n",
       "      <th>user_id</th>\n",
       "      <th>item_id</th>\n",
       "      <th>quantity</th>\n",
       "      <th>sales_value</th>\n",
       "      <th>retail_disc</th>\n",
       "      <th>week_no</th>\n",
       "      <th>store_id</th>\n",
       "      <th>target</th>\n",
       "      <th>manufacturer</th>\n",
       "      <th>department</th>\n",
       "      <th>...</th>\n",
       "      <th>commodity_desc</th>\n",
       "      <th>sub_commodity_desc</th>\n",
       "      <th>curr_size_of_product</th>\n",
       "      <th>age_desc</th>\n",
       "      <th>marital_status_code</th>\n",
       "      <th>income_desc</th>\n",
       "      <th>homeowner_desc</th>\n",
       "      <th>hh_comp_desc</th>\n",
       "      <th>household_size_desc</th>\n",
       "      <th>kid_category_desc</th>\n",
       "    </tr>\n",
       "  </thead>\n",
       "  <tbody>\n",
       "    <tr>\n",
       "      <th>0</th>\n",
       "      <td>790</td>\n",
       "      <td>1112238</td>\n",
       "      <td>NaN</td>\n",
       "      <td>NaN</td>\n",
       "      <td>NaN</td>\n",
       "      <td>NaN</td>\n",
       "      <td>NaN</td>\n",
       "      <td>0.0</td>\n",
       "      <td>3173</td>\n",
       "      <td>PRODUCE</td>\n",
       "      <td>...</td>\n",
       "      <td>VALUE ADDED FRUIT</td>\n",
       "      <td>INSTORE CUT FRUIT</td>\n",
       "      <td></td>\n",
       "      <td>45-54</td>\n",
       "      <td>U</td>\n",
       "      <td>50-74K</td>\n",
       "      <td>Homeowner</td>\n",
       "      <td>Unknown</td>\n",
       "      <td>1</td>\n",
       "      <td>None/Unknown</td>\n",
       "    </tr>\n",
       "    <tr>\n",
       "      <th>1</th>\n",
       "      <td>790</td>\n",
       "      <td>1029743</td>\n",
       "      <td>NaN</td>\n",
       "      <td>NaN</td>\n",
       "      <td>NaN</td>\n",
       "      <td>NaN</td>\n",
       "      <td>NaN</td>\n",
       "      <td>0.0</td>\n",
       "      <td>69</td>\n",
       "      <td>GROCERY</td>\n",
       "      <td>...</td>\n",
       "      <td>FLUID MILK PRODUCTS</td>\n",
       "      <td>FLUID MILK WHITE ONLY</td>\n",
       "      <td>1 GA</td>\n",
       "      <td>45-54</td>\n",
       "      <td>U</td>\n",
       "      <td>50-74K</td>\n",
       "      <td>Homeowner</td>\n",
       "      <td>Unknown</td>\n",
       "      <td>1</td>\n",
       "      <td>None/Unknown</td>\n",
       "    </tr>\n",
       "    <tr>\n",
       "      <th>2</th>\n",
       "      <td>790</td>\n",
       "      <td>878996</td>\n",
       "      <td>NaN</td>\n",
       "      <td>NaN</td>\n",
       "      <td>NaN</td>\n",
       "      <td>NaN</td>\n",
       "      <td>NaN</td>\n",
       "      <td>0.0</td>\n",
       "      <td>2</td>\n",
       "      <td>PRODUCE</td>\n",
       "      <td>...</td>\n",
       "      <td>GRAPES</td>\n",
       "      <td>GRAPES RED</td>\n",
       "      <td>18 LB</td>\n",
       "      <td>45-54</td>\n",
       "      <td>U</td>\n",
       "      <td>50-74K</td>\n",
       "      <td>Homeowner</td>\n",
       "      <td>Unknown</td>\n",
       "      <td>1</td>\n",
       "      <td>None/Unknown</td>\n",
       "    </tr>\n",
       "    <tr>\n",
       "      <th>3</th>\n",
       "      <td>790</td>\n",
       "      <td>5569230</td>\n",
       "      <td>1.0</td>\n",
       "      <td>4.19</td>\n",
       "      <td>-0.5</td>\n",
       "      <td>85.0</td>\n",
       "      <td>31782.0</td>\n",
       "      <td>1.0</td>\n",
       "      <td>1208</td>\n",
       "      <td>GROCERY</td>\n",
       "      <td>...</td>\n",
       "      <td>SOFT DRINKS</td>\n",
       "      <td>SOFT DRINKS 12/18&amp;15PK CAN CAR</td>\n",
       "      <td>12 OZ</td>\n",
       "      <td>45-54</td>\n",
       "      <td>U</td>\n",
       "      <td>50-74K</td>\n",
       "      <td>Homeowner</td>\n",
       "      <td>Unknown</td>\n",
       "      <td>1</td>\n",
       "      <td>None/Unknown</td>\n",
       "    </tr>\n",
       "    <tr>\n",
       "      <th>4</th>\n",
       "      <td>790</td>\n",
       "      <td>5574377</td>\n",
       "      <td>NaN</td>\n",
       "      <td>NaN</td>\n",
       "      <td>NaN</td>\n",
       "      <td>NaN</td>\n",
       "      <td>NaN</td>\n",
       "      <td>0.0</td>\n",
       "      <td>1208</td>\n",
       "      <td>GROCERY</td>\n",
       "      <td>...</td>\n",
       "      <td>SOFT DRINKS</td>\n",
       "      <td>SFT DRNK MLT-PK BTL CARB (EXCP</td>\n",
       "      <td>24 OZ</td>\n",
       "      <td>45-54</td>\n",
       "      <td>U</td>\n",
       "      <td>50-74K</td>\n",
       "      <td>Homeowner</td>\n",
       "      <td>Unknown</td>\n",
       "      <td>1</td>\n",
       "      <td>None/Unknown</td>\n",
       "    </tr>\n",
       "  </tbody>\n",
       "</table>\n",
       "<p>5 rows × 21 columns</p>\n",
       "</div>"
      ],
      "text/plain": [
       "   user_id  item_id  quantity  sales_value  retail_disc  week_no  store_id  \\\n",
       "0      790  1112238       NaN          NaN          NaN      NaN       NaN   \n",
       "1      790  1029743       NaN          NaN          NaN      NaN       NaN   \n",
       "2      790   878996       NaN          NaN          NaN      NaN       NaN   \n",
       "3      790  5569230       1.0         4.19         -0.5     85.0   31782.0   \n",
       "4      790  5574377       NaN          NaN          NaN      NaN       NaN   \n",
       "\n",
       "   target  manufacturer department  ...       commodity_desc  \\\n",
       "0     0.0          3173    PRODUCE  ...    VALUE ADDED FRUIT   \n",
       "1     0.0            69    GROCERY  ...  FLUID MILK PRODUCTS   \n",
       "2     0.0             2    PRODUCE  ...               GRAPES   \n",
       "3     1.0          1208    GROCERY  ...          SOFT DRINKS   \n",
       "4     0.0          1208    GROCERY  ...          SOFT DRINKS   \n",
       "\n",
       "               sub_commodity_desc curr_size_of_product age_desc  \\\n",
       "0               INSTORE CUT FRUIT                         45-54   \n",
       "1           FLUID MILK WHITE ONLY                 1 GA    45-54   \n",
       "2                      GRAPES RED                18 LB    45-54   \n",
       "3  SOFT DRINKS 12/18&15PK CAN CAR                12 OZ    45-54   \n",
       "4  SFT DRNK MLT-PK BTL CARB (EXCP                24 OZ    45-54   \n",
       "\n",
       "  marital_status_code income_desc homeowner_desc hh_comp_desc  \\\n",
       "0                   U      50-74K      Homeowner      Unknown   \n",
       "1                   U      50-74K      Homeowner      Unknown   \n",
       "2                   U      50-74K      Homeowner      Unknown   \n",
       "3                   U      50-74K      Homeowner      Unknown   \n",
       "4                   U      50-74K      Homeowner      Unknown   \n",
       "\n",
       "  household_size_desc kid_category_desc  \n",
       "0                   1      None/Unknown  \n",
       "1                   1      None/Unknown  \n",
       "2                   1      None/Unknown  \n",
       "3                   1      None/Unknown  \n",
       "4                   1      None/Unknown  \n",
       "\n",
       "[5 rows x 21 columns]"
      ]
     },
     "execution_count": 51,
     "metadata": {},
     "output_type": "execute_result"
    }
   ],
   "source": [
    "df_ranker_train.head()"
   ]
  },
  {
   "cell_type": "markdown",
   "metadata": {},
   "source": [
    "## !!! Пока выполните нотбук без этих строк, потом вернитесь и запустите их, обучите ранкер и посмотрите на метрики с ранжированием"
   ]
  },
  {
   "cell_type": "code",
   "execution_count": 52,
   "metadata": {},
   "outputs": [],
   "source": [
    "def df_add_features(data, initial_df, ITEM_COL='item_id', USER_COL='user_id'):\n",
    "    data = data.merge(initial_df.groupby(by=ITEM_COL).agg('sales_value').sum().rename('total_item_sales_value'), how='left',on=ITEM_COL)\n",
    "    data = data.merge(initial_df.groupby(by=ITEM_COL).agg('quantity').sum().rename('total_quantity_value'), how='left',on=ITEM_COL)\n",
    "    data = data.merge(initial_df.groupby(by=ITEM_COL).agg(USER_COL).count().rename('item_freq'), how='left',on=ITEM_COL)\n",
    "    #data = data.merge(initial_df.groupby(by=USER_COL).agg(USER_COL).count().rename('user_freq'), how='left',on=USER_COL)\n",
    "    #data = data.merge(initial_df.groupby(by=USER_COL).agg('sales_value').sum().rename('total_user_sales_value'), how='left',on=USER_COL)\n",
    "    data = data.merge(initial_df.groupby(by=ITEM_COL).agg('quantity').sum().rename('item_quantity_per_week')/initial_df.week_no.nunique(), how='left',on=ITEM_COL)\n",
    "    data = data.merge(initial_df.groupby(by=ITEM_COL).agg('quantity').sum().rename('item_quantity_per_user')/initial_df.user_id.nunique(), how='left',on=ITEM_COL)\n",
    "    data = data.merge(initial_df.groupby(by=USER_COL).agg('quantity').sum().rename('user_quantity_per_week')/initial_df.week_no.nunique(), how='left',on=USER_COL)\n",
    "    \n",
    "    data = data.merge(initial_df.groupby(by=ITEM_COL).agg('quantity').sum().rename('item_quantity_per_basket')/initial_df.basket_id.nunique(), how='left',on=ITEM_COL)\n",
    "    #data = data.merge(initial_df.groupby(by=ITEM_COL).agg('quantity').sum().rename('user_quantity_per_baskter')/initial_df.basket_id.nunique(), how='left',on=USER_COL)\n",
    "    data = data.merge(initial_df.groupby(by=ITEM_COL).agg(USER_COL).count().rename('item_freq_per_basket')/initial_df.basket_id.nunique(), how='left',on=ITEM_COL)\n",
    "    data = data.merge(initial_df.groupby(by=USER_COL).agg(USER_COL).count().rename('user_freq_per_basket')/initial_df.basket_id.nunique(), how='left',on=USER_COL)\n",
    "    return data"
   ]
  },
  {
   "cell_type": "code",
   "execution_count": 53,
   "metadata": {},
   "outputs": [],
   "source": [
    "#df_ranker_train = df_add_features(df_ranker_train, df_join_train_matcher, ITEM_COL=ITEM_COL, USER_COL=USER_COL)\n",
    "df_ranker_train = df_add_features(df_ranker_train, data_train_matcher, ITEM_COL=ITEM_COL, USER_COL=USER_COL)"
   ]
  },
  {
   "cell_type": "code",
   "execution_count": 54,
   "metadata": {},
   "outputs": [],
   "source": [
    "X_train = df_ranker_train.drop('target', axis=1)\n",
    "y_train = df_ranker_train[['target']]"
   ]
  },
  {
   "cell_type": "code",
   "execution_count": 55,
   "metadata": {},
   "outputs": [],
   "source": [
    "def train_data_preparation(data):\n",
    "    if 'quantity' in data.columns:\n",
    "        data['quantity'].fillna(value=0, inplace=True)\n",
    "    if 'sales_value' in data.columns:\n",
    "        data['sales_value'].fillna(value=0, inplace=True)\n",
    "    if 'retail_disc' in data.columns:\n",
    "        data['retail_disc'].fillna(value=0, inplace=True)\n",
    "    if 'age_desc' in data.columns:\n",
    "        data['age_desc'].fillna(value='19-65+', inplace=True)\n",
    "    if 'marital_status_code' in data.columns:\n",
    "        data['marital_status_code'].fillna( value='C', inplace=True)\n",
    "    if 'income_desc' in data.columns:\n",
    "        data['income_desc'].fillna( value='0-250K+', inplace=True)\n",
    "    if 'homeowner_desc' in data.columns:\n",
    "        data['homeowner_desc'].fillna( value='Unknown', inplace=True)\n",
    "    if 'hh_comp_desc' in data.columns:\n",
    "        data['hh_comp_desc'].fillna( value='Unknown', inplace=True)\n",
    "    if 'household_size_desc' in data.columns:\n",
    "        data['household_size_desc'].fillna( value='Unknown', inplace=True)\n",
    "    if 'kid_category_desc' in data.columns:\n",
    "        data['kid_category_desc'].fillna( value='None/Unknown', inplace=True)\n",
    "    #if 'store_id' in data.columns:\n",
    "        #data['store_id'] = X_train['store_id'].astype(str)\n",
    "    #if 'basket_id' in data.columns:\n",
    "        #data['basket_id'] = X_train['basket_id'].astype(str)\n",
    "    \n",
    "    data.replace('nan', 'U', inplace=True)\n",
    "    #if 'week_no' in data.columns:\n",
    "        #data['week_no'].fillna(value=0, inplace=True)\n",
    "        #data['week_no'] = data['week_no'].astype(int)\n",
    "    \n",
    "    return data"
   ]
  },
  {
   "cell_type": "code",
   "execution_count": 56,
   "metadata": {},
   "outputs": [],
   "source": [
    "X_train = train_data_preparation(X_train)"
   ]
  },
  {
   "cell_type": "code",
   "execution_count": 57,
   "metadata": {},
   "outputs": [
    {
     "data": {
      "text/plain": [
       "\"unimportant_features = ['basket_id']\\nX_train.drop(columns = unimportant_features, inplace=True)\""
      ]
     },
     "execution_count": 57,
     "metadata": {},
     "output_type": "execute_result"
    }
   ],
   "source": [
    "#unimportant_features = ['brand', 'commodity_desc', 'sub_commodity_desc', 'curr_size_of_product', \n",
    "#                        'age_desc', 'marital_status_code', 'income_desc', 'homeowner_desc', 'hh_comp_desc', \n",
    "#                        'household_size_desc', 'kid_category_desc', 'item_quantity_per_week'\n",
    "#                       ]\n",
    "\"\"\"unimportant_features = ['basket_id']\n",
    "X_train.drop(columns = unimportant_features, inplace=True)\"\"\""
   ]
  },
  {
   "cell_type": "code",
   "execution_count": 58,
   "metadata": {},
   "outputs": [],
   "source": [
    "num_feats = [col for col in X_train.columns if (X_train[col].dtype == 'int64') or (X_train[col].dtype == 'float64')]\n",
    "num_feats = set(num_feats) - set(['manufacturer','user_id', 'item_id'])\n",
    "#num_feats"
   ]
  },
  {
   "cell_type": "code",
   "execution_count": 59,
   "metadata": {},
   "outputs": [],
   "source": [
    "cat_feats = X_train.columns[0:].tolist()\n",
    "cat_feats = list(set(cat_feats) - set(num_feats))\n",
    "#cat_feats"
   ]
  },
  {
   "cell_type": "code",
   "execution_count": 60,
   "metadata": {
    "scrolled": true
   },
   "outputs": [],
   "source": [
    "X_train[cat_feats] = X_train[cat_feats].astype('category')"
   ]
  },
  {
   "cell_type": "code",
   "execution_count": 61,
   "metadata": {},
   "outputs": [
    {
     "data": {
      "text/plain": [
       "target    0.092666\n",
       "dtype: float64"
      ]
     },
     "execution_count": 61,
     "metadata": {},
     "output_type": "execute_result"
    }
   ],
   "source": [
    "y_train.mean()"
   ]
  },
  {
   "cell_type": "code",
   "execution_count": 62,
   "metadata": {},
   "outputs": [],
   "source": [
    "#X_train.info()"
   ]
  },
  {
   "cell_type": "markdown",
   "metadata": {},
   "source": [
    "## Обучение модели ранжирования"
   ]
  },
  {
   "cell_type": "code",
   "execution_count": 63,
   "metadata": {},
   "outputs": [
    {
     "data": {
      "text/plain": [
       "\"data = X_train\\ndata['target'] = y_train\\n\\nX_val = data[data['week_no'] >= data['week_no'].max() - 1]\\nX_train = data[data['week_no'] < data['week_no'].max() - 1]\\n\\ny_train = X_train[['target']]\\nX_train = X_train.drop('target', axis=1)\\n\\ny_val = X_val[['target']]\\nX_val = X_val.drop('target', axis=1)\""
      ]
     },
     "execution_count": 63,
     "metadata": {},
     "output_type": "execute_result"
    }
   ],
   "source": [
    "# week for validation\n",
    "\"\"\"data = X_train\n",
    "data['target'] = y_train\n",
    "\n",
    "X_val = data[data['week_no'] >= data['week_no'].max() - 1]\n",
    "X_train = data[data['week_no'] < data['week_no'].max() - 1]\n",
    "\n",
    "y_train = X_train[['target']]\n",
    "X_train = X_train.drop('target', axis=1)\n",
    "\n",
    "y_val = X_val[['target']]\n",
    "X_val = X_val.drop('target', axis=1)\"\"\""
   ]
  },
  {
   "cell_type": "code",
   "execution_count": 64,
   "metadata": {
    "scrolled": false
   },
   "outputs": [
    {
     "data": {
      "text/plain": [
       "'feature_weight = {\"week_no\":0.08, \"retail_disc\":0.5}\\n\\n#feature_weight = {\"quantity\":1}\\n\\nmodel = CatBoostClassifier(\\n    iterations=70,\\n    learning_rate=0.05,\\n    depth=10,\\n    random_seed=12,\\n    logging_level=\\'Silent\\',\\n    cat_features=cat_feats,\\n    feature_weights = feature_weight,\\n    custom_metric=[\\'Logloss\\', \\'Precision\\', \\'F1\\', \\'Recall\\']\\n)\\n#use_best_model=True\\n\\nmodel.fit(\\n    X_train, y_train,\\n    plot=True\\n)\\n#eval_set=(X_val, y_val),'"
      ]
     },
     "execution_count": 64,
     "metadata": {},
     "output_type": "execute_result"
    }
   ],
   "source": [
    "#feature_weight = {\"week_no\":0.005,\"store_id\":0.01, \"quantity\":0.01, \"sales_value\":0.01, \n",
    "#                  \"retail_disc\":0.01, \"basket_id\":0.11, \"retail_disc\":0.005, \"item_id\":0.1, \"user_id\":0.1}\n",
    "\"\"\"feature_weight = {\"week_no\":0.08, \"retail_disc\":0.5}\n",
    "\n",
    "#feature_weight = {\"quantity\":1}\n",
    "\n",
    "model = CatBoostClassifier(\n",
    "    iterations=70,\n",
    "    learning_rate=0.05,\n",
    "    depth=10,\n",
    "    random_seed=12,\n",
    "    logging_level='Silent',\n",
    "    cat_features=cat_feats,\n",
    "    feature_weights = feature_weight,\n",
    "    custom_metric=['Logloss', 'Precision', 'F1', 'Recall']\n",
    ")\n",
    "#use_best_model=True\n",
    "\n",
    "model.fit(\n",
    "    X_train, y_train,\n",
    "    plot=True\n",
    ")\n",
    "#eval_set=(X_val, y_val),\"\"\""
   ]
  },
  {
   "cell_type": "code",
   "execution_count": 65,
   "metadata": {},
   "outputs": [],
   "source": [
    "#model.get_feature_importance(prettified = True)"
   ]
  },
  {
   "cell_type": "code",
   "execution_count": 66,
   "metadata": {},
   "outputs": [],
   "source": [
    "def feature_weights_transf(params, columns):\n",
    "    feature_weights_str = \"\"\n",
    "    for item in columns:\n",
    "        if item in params.keys():\n",
    "            if feature_weights_str == '':\n",
    "                feature_weights_str = feature_weights_str + f\"{item}:{params[item]}\"\n",
    "            else:\n",
    "                feature_weights_str = feature_weights_str + f\",{item}:{params[item]}\"\n",
    "    return feature_weights_str"
   ]
  },
  {
   "cell_type": "code",
   "execution_count": 67,
   "metadata": {},
   "outputs": [],
   "source": [
    "from hyperopt import fmin, tpe, hp, Trials\n",
    "n_iter = 10\n",
    "random_st = 12\n",
    "\n",
    "def score_func(params, data=df_ranker_train, X_train=X_train,\n",
    "               y_train=y_train, #X_val=X_val, y_val=y_val,\n",
    "               random_state_val=random_st,\n",
    "               TOPK_PRECISION = 5\n",
    "              ):\n",
    "    feature_weights_str = feature_weights_transf(params, X_train.columns)\n",
    "\n",
    "    #feature_weights_str = f'({\",\".join([str(item) for item in params['feature_weights']])})\n",
    "    # the function gets a set of variable parameters in \"param\"\n",
    "    model_params = {'iterations': int(params['iterations']),\n",
    "                    'learning_rate': params['learning_rate'],\n",
    "                    'depth': int(params['depth']),\n",
    "                    'logging_level': params['logging_level'],\n",
    "                    'cat_features': params['cat_features'],\n",
    "                    'feature_weights': feature_weights_str\n",
    "                   }\n",
    "    \n",
    "    # we use this params to create a new CatBoost model\n",
    "    model = CatBoostClassifier(random_seed=random_state_val, **model_params)\n",
    "    \n",
    "    #use_best_model=True\n",
    "    model.fit(X=X_train, y=y_train)\n",
    "    \n",
    "    train_preds = model.predict_proba(X_train)\n",
    "    \n",
    "    data['proba_item_purchase'] = train_preds[:,1]\n",
    "    result_eval = data.groupby(USER_COL)[ITEM_COL].unique().reset_index()\n",
    "    result_eval.columns=[USER_COL, ACTUAL_COL]\n",
    "    \n",
    "    def rerank(user_id):\n",
    "        return data[data[USER_COL]==user_id].sort_values('proba_item_purchase', ascending=False).head(5).item_id.tolist()\n",
    "    \n",
    "    result_eval['reranked_als_rec'] = result_eval[USER_COL].apply(lambda user_id: rerank(user_id))\n",
    "    current_precision = sorted(calc_precision(result_eval, TOPK_PRECISION), key=lambda x: x[1], reverse=True)[0][1]\n",
    "\n",
    "    # precision\n",
    "    if current_precision > 0:\n",
    "        score = 1/current_precision\n",
    "    else:\n",
    "        score = 1e100\n",
    "    \n",
    "    return score"
   ]
  },
  {
   "cell_type": "code",
   "execution_count": 68,
   "metadata": {},
   "outputs": [
    {
     "name": "stdout",
     "output_type": "stream",
     "text": [
      "{'iterations': <hyperopt.pyll.base.Apply object at 0x7f81d4063760>, 'learning_rate': <hyperopt.pyll.base.Apply object at 0x7f81d4063640>, 'depth': <hyperopt.pyll.base.Apply object at 0x7f81d4063460>, 'logging_level': 'Silent', 'cat_features': ['age_desc', 'income_desc', 'homeowner_desc', 'household_size_desc', 'hh_comp_desc', 'department', 'marital_status_code', 'manufacturer', 'brand', 'kid_category_desc', 'curr_size_of_product', 'user_id', 'sub_commodity_desc', 'commodity_desc', 'item_id'], 'random_state_val': 12, 'week_no': <hyperopt.pyll.base.Apply object at 0x7f81d1f731c0>, 'retail_disc': <hyperopt.pyll.base.Apply object at 0x7f81dd1f4c10>, 'sales_value': <hyperopt.pyll.base.Apply object at 0x7f81dd1f4e20>, 'quantity': <hyperopt.pyll.base.Apply object at 0x7f81dd1f4d90>, 'store_id': <hyperopt.pyll.base.Apply object at 0x7f81dd1f4c40>}\n"
     ]
    }
   ],
   "source": [
    "param={'iterations': hp.uniform('iterations', 100, 150),\n",
    "       'learning_rate': hp.uniform('learning_rate', 0.07, 0.1),\n",
    "       'depth': hp.uniform('depth', 8, 16),\n",
    "       'logging_level': 'Silent',\n",
    "       'cat_features': cat_feats,\n",
    "       'random_state_val': 12\n",
    "      }\n",
    "\n",
    "\"\"\"    elif item == 'sales_value':\n",
    "        param.update({item:hp.uniform(item, 0.07, 0.09)})\n",
    "    elif item == 'quantity':\n",
    "        param.update({item:hp.uniform(item, 0.07, 0.09)})\n",
    "    elif item == 'store_id':\n",
    "        param.update({item:hp.uniform(item, 0.07, 0.09)})\n",
    "    elif item == 'retail_disc':\n",
    "        param.update({item:hp.uniform(item, 0.3, 0.9)})\n",
    "    \"\"\"\n",
    "\"\"\"feature_weight = {\"week_no\":0.08, \"sales_value\":0.083, \"quantity\":0.084, \"store_id\":0.08,\n",
    "                  \"retail_disc\":0.5}\"\"\"\n",
    "param.update({'week_no':hp.uniform('week_no', 0.074,0.08)})\n",
    "param.update({'retail_disc':hp.uniform('retail_disc', 0.6,0.94)})\n",
    "param.update({'sales_value':hp.uniform('sales_value', 0.08,0.09)})\n",
    "param.update({'quantity':hp.uniform('quantity', 0.076,0.09)})\n",
    "param.update({'store_id':hp.uniform('store_id', 0.085,0.1)})\n",
    "\"\"\"for item in X_train.columns:\n",
    "    if item == 'week_no':\n",
    "        param.update({item:hp.uniform(item, 0.07, 0.9)})\n",
    "    elif item == 'brand':\n",
    "        param.update({item:hp.uniform(item, 0.3, 0.5)})\n",
    "    elif item == 'commodity_desc':\n",
    "        param.update({item:hp.uniform(item, 0.6, 1)})\n",
    "    elif item == 'age_desc':\n",
    "        param.update({item:hp.uniform(item, 0.6, 1)})\n",
    "    else:\n",
    "        param.update({item:hp.uniform(item, 0.0001, 1)})\"\"\"\n",
    "\n",
    "print(f'{param}')"
   ]
  },
  {
   "cell_type": "code",
   "execution_count": 69,
   "metadata": {},
   "outputs": [
    {
     "name": "stdout",
     "output_type": "stream",
     "text": [
      "100%|████████| 10/10 [39:30<00:00, 237.01s/trial, best loss: 1.1634512960113756]\n"
     ]
    },
    {
     "data": {
      "text/plain": [
       "{'depth': 9.822802531494748,\n",
       " 'iterations': 124.01986043075092,\n",
       " 'learning_rate': 0.08442849640174455,\n",
       " 'quantity': 0.07628255066156421,\n",
       " 'retail_disc': 0.7872924670058793,\n",
       " 'sales_value': 0.08757648685168383,\n",
       " 'store_id': 0.08713841860786548,\n",
       " 'week_no': 0.07587184219443838}"
      ]
     },
     "execution_count": 69,
     "metadata": {},
     "output_type": "execute_result"
    }
   ],
   "source": [
    "best=fmin(score_func, # function to optimize\n",
    "          space=param, \n",
    "          algo=tpe.suggest, # optimization algorithm, hyperotp will select its parameters automatically\n",
    "          max_evals=n_iter, # maximum number of iterations\n",
    "         )\n",
    "best"
   ]
  },
  {
   "cell_type": "code",
   "execution_count": 70,
   "metadata": {},
   "outputs": [
    {
     "data": {
      "text/plain": [
       "\"\\n{'age_desc': 0.7123073636565711,\\n 'brand': 0.3514451199790951,\\n 'commodity_desc': 0.7502414842684827,\\n 'curr_size_of_product': 0.9980096123334959,\\n 'department': 0.2381266386575291,\\n 'depth': 8.891231078146838,\\n 'hh_comp_desc': 0.06150869801147496,\\n 'homeowner_desc': 0.4697454898882302,\\n 'household_size_desc': 0.1311161495203425,\\n 'income_desc': 0.5208016708622205,\\n 'item_freq': 0.8159060191832026,\\n 'item_id': 0.1005737038414557,\\n 'item_quantity_per_user': 0.619439124360935,\\n 'item_quantity_per_week': 0.4043988417784879,\\n 'iterations': 32.8740719606796,\\n 'kid_category_desc': 0.568428941905317,\\n 'learning_rate': 0.018901095632145003,\\n 'manufacturer': 0.7206477482942951,\\n 'marital_status_code': 0.653818371182886,\\n 'retail_disc': 0.7263458604417883,\\n 'sub_commodity_desc': 0.43104609520738457,\\n 'total_item_sales_value': 0.9927342971058644,\\n 'total_quantity_value': 0.7292289194190094,\\n 'user_id': 0.30236219241627343,\\n 'week_no': 0.997843855630844}\\n\""
      ]
     },
     "execution_count": 70,
     "metadata": {},
     "output_type": "execute_result"
    }
   ],
   "source": [
    "\"\"\"\n",
    "{'age_desc': 0.7123073636565711,\n",
    " 'brand': 0.3514451199790951,\n",
    " 'commodity_desc': 0.7502414842684827,\n",
    " 'curr_size_of_product': 0.9980096123334959,\n",
    " 'department': 0.2381266386575291,\n",
    " 'depth': 8.891231078146838,\n",
    " 'hh_comp_desc': 0.06150869801147496,\n",
    " 'homeowner_desc': 0.4697454898882302,\n",
    " 'household_size_desc': 0.1311161495203425,\n",
    " 'income_desc': 0.5208016708622205,\n",
    " 'item_freq': 0.8159060191832026,\n",
    " 'item_id': 0.1005737038414557,\n",
    " 'item_quantity_per_user': 0.619439124360935,\n",
    " 'item_quantity_per_week': 0.4043988417784879,\n",
    " 'iterations': 32.8740719606796,\n",
    " 'kid_category_desc': 0.568428941905317,\n",
    " 'learning_rate': 0.018901095632145003,\n",
    " 'manufacturer': 0.7206477482942951,\n",
    " 'marital_status_code': 0.653818371182886,\n",
    " 'retail_disc': 0.7263458604417883,\n",
    " 'sub_commodity_desc': 0.43104609520738457,\n",
    " 'total_item_sales_value': 0.9927342971058644,\n",
    " 'total_quantity_value': 0.7292289194190094,\n",
    " 'user_id': 0.30236219241627343,\n",
    " 'week_no': 0.997843855630844}\n",
    "\"\"\""
   ]
  },
  {
   "cell_type": "code",
   "execution_count": 71,
   "metadata": {},
   "outputs": [
    {
     "data": {
      "text/plain": [
       "\"y_train = data['target']\\nX_train = data.drop('target', axis=1)\""
      ]
     },
     "execution_count": 71,
     "metadata": {},
     "output_type": "execute_result"
    }
   ],
   "source": [
    "feature_weights_str = feature_weights_transf(best, X_train.columns)\n",
    "\n",
    "model_params = {'iterations': int(best['iterations']),\n",
    "                'learning_rate': best['learning_rate'],\n",
    "                'depth': int(best['depth']),\n",
    "                'logging_level': 'Silent',\n",
    "                'cat_features': cat_feats,\n",
    "                'feature_weights': feature_weights_str\n",
    "                }\n",
    "\n",
    "\"\"\"y_train = data['target']\n",
    "X_train = data.drop('target', axis=1)\"\"\""
   ]
  },
  {
   "cell_type": "code",
   "execution_count": 72,
   "metadata": {},
   "outputs": [
    {
     "data": {
      "text/plain": [
       "<catboost.core.CatBoostClassifier at 0x7f81d4073eb0>"
      ]
     },
     "execution_count": 72,
     "metadata": {},
     "output_type": "execute_result"
    }
   ],
   "source": [
    "# computing the score on the test set\n",
    "model = CatBoostClassifier(random_seed=12, **model_params)\n",
    "model.fit(\n",
    "    X_train, y_train,\n",
    "    plot=False\n",
    ")"
   ]
  },
  {
   "cell_type": "code",
   "execution_count": 73,
   "metadata": {},
   "outputs": [
    {
     "data": {
      "text/html": [
       "<div>\n",
       "<style scoped>\n",
       "    .dataframe tbody tr th:only-of-type {\n",
       "        vertical-align: middle;\n",
       "    }\n",
       "\n",
       "    .dataframe tbody tr th {\n",
       "        vertical-align: top;\n",
       "    }\n",
       "\n",
       "    .dataframe thead th {\n",
       "        text-align: right;\n",
       "    }\n",
       "</style>\n",
       "<table border=\"1\" class=\"dataframe\">\n",
       "  <thead>\n",
       "    <tr style=\"text-align: right;\">\n",
       "      <th></th>\n",
       "      <th>Feature Id</th>\n",
       "      <th>Importances</th>\n",
       "    </tr>\n",
       "  </thead>\n",
       "  <tbody>\n",
       "    <tr>\n",
       "      <th>0</th>\n",
       "      <td>store_id</td>\n",
       "      <td>3.450912e+01</td>\n",
       "    </tr>\n",
       "    <tr>\n",
       "      <th>1</th>\n",
       "      <td>sales_value</td>\n",
       "      <td>2.277168e+01</td>\n",
       "    </tr>\n",
       "    <tr>\n",
       "      <th>2</th>\n",
       "      <td>retail_disc</td>\n",
       "      <td>1.400539e+01</td>\n",
       "    </tr>\n",
       "    <tr>\n",
       "      <th>3</th>\n",
       "      <td>week_no</td>\n",
       "      <td>7.498010e+00</td>\n",
       "    </tr>\n",
       "    <tr>\n",
       "      <th>4</th>\n",
       "      <td>curr_size_of_product</td>\n",
       "      <td>2.249575e+00</td>\n",
       "    </tr>\n",
       "    <tr>\n",
       "      <th>5</th>\n",
       "      <td>user_quantity_per_week</td>\n",
       "      <td>1.990408e+00</td>\n",
       "    </tr>\n",
       "    <tr>\n",
       "      <th>6</th>\n",
       "      <td>user_freq_per_basket</td>\n",
       "      <td>1.671887e+00</td>\n",
       "    </tr>\n",
       "    <tr>\n",
       "      <th>7</th>\n",
       "      <td>item_freq</td>\n",
       "      <td>1.636524e+00</td>\n",
       "    </tr>\n",
       "    <tr>\n",
       "      <th>8</th>\n",
       "      <td>item_freq_per_basket</td>\n",
       "      <td>1.568332e+00</td>\n",
       "    </tr>\n",
       "    <tr>\n",
       "      <th>9</th>\n",
       "      <td>item_id</td>\n",
       "      <td>1.459561e+00</td>\n",
       "    </tr>\n",
       "    <tr>\n",
       "      <th>10</th>\n",
       "      <td>user_id</td>\n",
       "      <td>1.422671e+00</td>\n",
       "    </tr>\n",
       "    <tr>\n",
       "      <th>11</th>\n",
       "      <td>commodity_desc</td>\n",
       "      <td>1.335864e+00</td>\n",
       "    </tr>\n",
       "    <tr>\n",
       "      <th>12</th>\n",
       "      <td>item_quantity_per_user</td>\n",
       "      <td>1.333812e+00</td>\n",
       "    </tr>\n",
       "    <tr>\n",
       "      <th>13</th>\n",
       "      <td>item_quantity_per_week</td>\n",
       "      <td>1.259773e+00</td>\n",
       "    </tr>\n",
       "    <tr>\n",
       "      <th>14</th>\n",
       "      <td>department</td>\n",
       "      <td>1.137178e+00</td>\n",
       "    </tr>\n",
       "    <tr>\n",
       "      <th>15</th>\n",
       "      <td>total_item_sales_value</td>\n",
       "      <td>1.133897e+00</td>\n",
       "    </tr>\n",
       "    <tr>\n",
       "      <th>16</th>\n",
       "      <td>item_quantity_per_basket</td>\n",
       "      <td>5.479408e-01</td>\n",
       "    </tr>\n",
       "    <tr>\n",
       "      <th>17</th>\n",
       "      <td>quantity</td>\n",
       "      <td>4.324176e-01</td>\n",
       "    </tr>\n",
       "    <tr>\n",
       "      <th>18</th>\n",
       "      <td>total_quantity_value</td>\n",
       "      <td>4.100126e-01</td>\n",
       "    </tr>\n",
       "    <tr>\n",
       "      <th>19</th>\n",
       "      <td>brand</td>\n",
       "      <td>3.322656e-01</td>\n",
       "    </tr>\n",
       "    <tr>\n",
       "      <th>20</th>\n",
       "      <td>sub_commodity_desc</td>\n",
       "      <td>2.987365e-01</td>\n",
       "    </tr>\n",
       "    <tr>\n",
       "      <th>21</th>\n",
       "      <td>income_desc</td>\n",
       "      <td>2.016747e-01</td>\n",
       "    </tr>\n",
       "    <tr>\n",
       "      <th>22</th>\n",
       "      <td>household_size_desc</td>\n",
       "      <td>1.897934e-01</td>\n",
       "    </tr>\n",
       "    <tr>\n",
       "      <th>23</th>\n",
       "      <td>age_desc</td>\n",
       "      <td>1.895697e-01</td>\n",
       "    </tr>\n",
       "    <tr>\n",
       "      <th>24</th>\n",
       "      <td>marital_status_code</td>\n",
       "      <td>1.617229e-01</td>\n",
       "    </tr>\n",
       "    <tr>\n",
       "      <th>25</th>\n",
       "      <td>hh_comp_desc</td>\n",
       "      <td>1.592584e-01</td>\n",
       "    </tr>\n",
       "    <tr>\n",
       "      <th>26</th>\n",
       "      <td>homeowner_desc</td>\n",
       "      <td>7.719531e-02</td>\n",
       "    </tr>\n",
       "    <tr>\n",
       "      <th>27</th>\n",
       "      <td>kid_category_desc</td>\n",
       "      <td>1.572322e-02</td>\n",
       "    </tr>\n",
       "    <tr>\n",
       "      <th>28</th>\n",
       "      <td>manufacturer</td>\n",
       "      <td>8.426558e-08</td>\n",
       "    </tr>\n",
       "  </tbody>\n",
       "</table>\n",
       "</div>"
      ],
      "text/plain": [
       "                  Feature Id   Importances\n",
       "0                   store_id  3.450912e+01\n",
       "1                sales_value  2.277168e+01\n",
       "2                retail_disc  1.400539e+01\n",
       "3                    week_no  7.498010e+00\n",
       "4       curr_size_of_product  2.249575e+00\n",
       "5     user_quantity_per_week  1.990408e+00\n",
       "6       user_freq_per_basket  1.671887e+00\n",
       "7                  item_freq  1.636524e+00\n",
       "8       item_freq_per_basket  1.568332e+00\n",
       "9                    item_id  1.459561e+00\n",
       "10                   user_id  1.422671e+00\n",
       "11            commodity_desc  1.335864e+00\n",
       "12    item_quantity_per_user  1.333812e+00\n",
       "13    item_quantity_per_week  1.259773e+00\n",
       "14                department  1.137178e+00\n",
       "15    total_item_sales_value  1.133897e+00\n",
       "16  item_quantity_per_basket  5.479408e-01\n",
       "17                  quantity  4.324176e-01\n",
       "18      total_quantity_value  4.100126e-01\n",
       "19                     brand  3.322656e-01\n",
       "20        sub_commodity_desc  2.987365e-01\n",
       "21               income_desc  2.016747e-01\n",
       "22       household_size_desc  1.897934e-01\n",
       "23                  age_desc  1.895697e-01\n",
       "24       marital_status_code  1.617229e-01\n",
       "25              hh_comp_desc  1.592584e-01\n",
       "26            homeowner_desc  7.719531e-02\n",
       "27         kid_category_desc  1.572322e-02\n",
       "28              manufacturer  8.426558e-08"
      ]
     },
     "execution_count": 73,
     "metadata": {},
     "output_type": "execute_result"
    }
   ],
   "source": [
    "model.get_feature_importance(prettified = True)"
   ]
  },
  {
   "cell_type": "code",
   "execution_count": 74,
   "metadata": {},
   "outputs": [],
   "source": [
    "#train_preds = model.predict_proba(data.drop('target', axis=1))\n",
    "train_preds = model.predict_proba(X_train)\n",
    "df_ranker_predict = df_ranker_train.copy()\n",
    "df_ranker_predict['proba_item_purchase'] = train_preds[:,1]\n",
    "#df_ranker_predict.head(12)"
   ]
  },
  {
   "cell_type": "markdown",
   "metadata": {},
   "source": [
    "## Подведем итоги\n",
    "\n",
    "    Мы обучили модель ранжирования на покупках из сета data_train_ranker и на кандитатах от als_recommendations, что является тренировочным сетом, и теперь наша задача предсказать и оценить именно на тестовом сете."
   ]
  },
  {
   "cell_type": "markdown",
   "metadata": {},
   "source": [
    "# Evaluation on test dataset"
   ]
  },
  {
   "cell_type": "code",
   "execution_count": 75,
   "metadata": {},
   "outputs": [
    {
     "data": {
      "text/html": [
       "<div>\n",
       "<style scoped>\n",
       "    .dataframe tbody tr th:only-of-type {\n",
       "        vertical-align: middle;\n",
       "    }\n",
       "\n",
       "    .dataframe tbody tr th {\n",
       "        vertical-align: top;\n",
       "    }\n",
       "\n",
       "    .dataframe thead th {\n",
       "        text-align: right;\n",
       "    }\n",
       "</style>\n",
       "<table border=\"1\" class=\"dataframe\">\n",
       "  <thead>\n",
       "    <tr style=\"text-align: right;\">\n",
       "      <th></th>\n",
       "      <th>user_id</th>\n",
       "      <th>actual</th>\n",
       "    </tr>\n",
       "  </thead>\n",
       "  <tbody>\n",
       "    <tr>\n",
       "      <th>0</th>\n",
       "      <td>1</td>\n",
       "      <td>[821867, 834484, 856942, 865456, 889248, 90795...</td>\n",
       "    </tr>\n",
       "    <tr>\n",
       "      <th>1</th>\n",
       "      <td>3</td>\n",
       "      <td>[835476, 851057, 872021, 878302, 879948, 90963...</td>\n",
       "    </tr>\n",
       "  </tbody>\n",
       "</table>\n",
       "</div>"
      ],
      "text/plain": [
       "   user_id                                             actual\n",
       "0        1  [821867, 834484, 856942, 865456, 889248, 90795...\n",
       "1        3  [835476, 851057, 872021, 878302, 879948, 90963..."
      ]
     },
     "execution_count": 75,
     "metadata": {},
     "output_type": "execute_result"
    }
   ],
   "source": [
    "result_eval_ranker = data_val_ranker.groupby(USER_COL)[ITEM_COL].unique().reset_index()\n",
    "result_eval_ranker.columns=[USER_COL, ACTUAL_COL]\n",
    "result_eval_ranker.head(2)"
   ]
  },
  {
   "cell_type": "markdown",
   "metadata": {},
   "source": [
    "## Eval matching on test dataset"
   ]
  },
  {
   "cell_type": "code",
   "execution_count": 76,
   "metadata": {},
   "outputs": [
    {
     "name": "stdout",
     "output_type": "stream",
     "text": [
      "CPU times: user 54.7 s, sys: 2.82 s, total: 57.5 s\n",
      "Wall time: 1min 2s\n"
     ]
    }
   ],
   "source": [
    "%%time\n",
    "result_eval_ranker['own_rec'] = recommended_items(0, result_eval_ranker[USER_COL], N_PREDICT, recommender.get_own_recommendations)\n",
    "result_eval_ranker['als_rec'] = recommended_items(0, result_eval_ranker[USER_COL], N_PREDICT, recommender.get_als_recommendations)"
   ]
  },
  {
   "cell_type": "code",
   "execution_count": 77,
   "metadata": {},
   "outputs": [
    {
     "data": {
      "text/plain": [
       "'TOPK_PRECISION = 5'"
      ]
     },
     "execution_count": 77,
     "metadata": {},
     "output_type": "execute_result"
    }
   ],
   "source": [
    "f'TOPK_PRECISION = {TOPK_PRECISION}'"
   ]
  },
  {
   "cell_type": "code",
   "execution_count": 78,
   "metadata": {},
   "outputs": [],
   "source": [
    "# померяем precision только модели матчинга, чтобы понимать влияение ранжирования на метрики\n",
    "\n",
    "#sorted(calc_precision(result_eval_ranker, TOPK_PRECISION), key=lambda x: x[1], reverse=True)"
   ]
  },
  {
   "cell_type": "markdown",
   "metadata": {},
   "source": [
    "## Eval re-ranked matched result on test dataset\n",
    "    Вспомним df_match_candidates сет, который был получен own_recommendations на юзерах, набор пользователей мы фиксировали и он одинаков, значи и прогноз одинаков, поэтому мы можем использовать этот датафрейм для переранжирования.\n",
    "    "
   ]
  },
  {
   "cell_type": "code",
   "execution_count": 79,
   "metadata": {},
   "outputs": [],
   "source": [
    "def rerank(user_id, df = df_ranker_predict):\n",
    "    return df[df[USER_COL]==user_id].sort_values('proba_item_purchase', ascending=False).head(5).item_id.tolist()"
   ]
  },
  {
   "cell_type": "code",
   "execution_count": 80,
   "metadata": {},
   "outputs": [
    {
     "name": "stdout",
     "output_type": "stream",
     "text": [
      "('reranked_als_rec', 0.16632756866734272)\n",
      "('als_rec', 0.09491353001017258)\n",
      "('own_rec', 0.03234994913530021)\n",
      "TOPK_PRECISION = 5\n"
     ]
    }
   ],
   "source": [
    "\"\"\"data_val_ranker = df_preparation(data_val_ranker, keep_columns=columns)\n",
    "data_val_ranker = df_merge_features(data_val_ranker, item_features, user_features)\n",
    "data_val_ranker = df_add_features(data_val_ranker, data_train_matcher, ITEM_COL=ITEM_COL, USER_COL=USER_COL)\n",
    "data_val_ranker = train_data_preparation(data_val_ranker)\n",
    "\n",
    "train_preds = model.predict_proba(data_val_ranker)\n",
    "data_val_ranker['proba_item_purchase'] = train_preds[:,1]\"\"\"\n",
    "\n",
    "result_eval_ranker['reranked_als_rec'] = result_eval_ranker[USER_COL].apply(lambda user_id: rerank(user_id))\n",
    "print(*sorted(calc_precision(result_eval_ranker, TOPK_PRECISION), key=lambda x: x[1], reverse=True),  f'TOPK_PRECISION = {TOPK_PRECISION}', sep='\\n')"
   ]
  },
  {
   "cell_type": "code",
   "execution_count": 81,
   "metadata": {},
   "outputs": [],
   "source": [
    "#precision@5 >= 0.25"
   ]
  },
  {
   "cell_type": "code",
   "execution_count": 82,
   "metadata": {},
   "outputs": [],
   "source": [
    "# смотрим на метрики выше и сравниваем что с ранжированием и без, добавляем фичи и то же смотрим"
   ]
  },
  {
   "cell_type": "markdown",
   "metadata": {},
   "source": [
    "# Оценка на тесте для выполнения курсового проекта"
   ]
  },
  {
   "cell_type": "code",
   "execution_count": 83,
   "metadata": {},
   "outputs": [],
   "source": [
    "TOPK_PRECISION = 5\n",
    "\n",
    "df_test = pd.read_csv('retail_test1.csv')\n",
    "#df_transactions = pd.read_csv('retail_train.csv')"
   ]
  },
  {
   "cell_type": "code",
   "execution_count": 84,
   "metadata": {},
   "outputs": [],
   "source": [
    "#df_test = df_test[df_test.user_id.isin(common_users)]"
   ]
  },
  {
   "cell_type": "code",
   "execution_count": 85,
   "metadata": {},
   "outputs": [
    {
     "data": {
      "text/html": [
       "<div>\n",
       "<style scoped>\n",
       "    .dataframe tbody tr th:only-of-type {\n",
       "        vertical-align: middle;\n",
       "    }\n",
       "\n",
       "    .dataframe tbody tr th {\n",
       "        vertical-align: top;\n",
       "    }\n",
       "\n",
       "    .dataframe thead th {\n",
       "        text-align: right;\n",
       "    }\n",
       "</style>\n",
       "<table border=\"1\" class=\"dataframe\">\n",
       "  <thead>\n",
       "    <tr style=\"text-align: right;\">\n",
       "      <th></th>\n",
       "      <th>user_id</th>\n",
       "      <th>basket_id</th>\n",
       "      <th>day</th>\n",
       "      <th>item_id</th>\n",
       "      <th>quantity</th>\n",
       "      <th>sales_value</th>\n",
       "      <th>store_id</th>\n",
       "      <th>retail_disc</th>\n",
       "      <th>trans_time</th>\n",
       "      <th>week_no</th>\n",
       "      <th>coupon_disc</th>\n",
       "      <th>coupon_match_disc</th>\n",
       "    </tr>\n",
       "  </thead>\n",
       "  <tbody>\n",
       "    <tr>\n",
       "      <th>0</th>\n",
       "      <td>1340</td>\n",
       "      <td>41652823310</td>\n",
       "      <td>664</td>\n",
       "      <td>912987</td>\n",
       "      <td>1</td>\n",
       "      <td>8.49</td>\n",
       "      <td>446</td>\n",
       "      <td>0.0</td>\n",
       "      <td>52</td>\n",
       "      <td>96</td>\n",
       "      <td>0.0</td>\n",
       "      <td>0.0</td>\n",
       "    </tr>\n",
       "    <tr>\n",
       "      <th>1</th>\n",
       "      <td>588</td>\n",
       "      <td>41652838477</td>\n",
       "      <td>664</td>\n",
       "      <td>1024426</td>\n",
       "      <td>1</td>\n",
       "      <td>6.29</td>\n",
       "      <td>388</td>\n",
       "      <td>0.0</td>\n",
       "      <td>8</td>\n",
       "      <td>96</td>\n",
       "      <td>0.0</td>\n",
       "      <td>0.0</td>\n",
       "    </tr>\n",
       "    <tr>\n",
       "      <th>2</th>\n",
       "      <td>2070</td>\n",
       "      <td>41652857291</td>\n",
       "      <td>664</td>\n",
       "      <td>995242</td>\n",
       "      <td>5</td>\n",
       "      <td>9.10</td>\n",
       "      <td>311</td>\n",
       "      <td>-0.6</td>\n",
       "      <td>46</td>\n",
       "      <td>96</td>\n",
       "      <td>0.0</td>\n",
       "      <td>0.0</td>\n",
       "    </tr>\n",
       "    <tr>\n",
       "      <th>3</th>\n",
       "      <td>1602</td>\n",
       "      <td>41665647035</td>\n",
       "      <td>664</td>\n",
       "      <td>827939</td>\n",
       "      <td>1</td>\n",
       "      <td>7.99</td>\n",
       "      <td>334</td>\n",
       "      <td>0.0</td>\n",
       "      <td>1741</td>\n",
       "      <td>96</td>\n",
       "      <td>0.0</td>\n",
       "      <td>0.0</td>\n",
       "    </tr>\n",
       "    <tr>\n",
       "      <th>4</th>\n",
       "      <td>1602</td>\n",
       "      <td>41665647035</td>\n",
       "      <td>664</td>\n",
       "      <td>927712</td>\n",
       "      <td>1</td>\n",
       "      <td>0.59</td>\n",
       "      <td>334</td>\n",
       "      <td>-0.4</td>\n",
       "      <td>1741</td>\n",
       "      <td>96</td>\n",
       "      <td>0.0</td>\n",
       "      <td>0.0</td>\n",
       "    </tr>\n",
       "  </tbody>\n",
       "</table>\n",
       "</div>"
      ],
      "text/plain": [
       "   user_id    basket_id  day  item_id  quantity  sales_value  store_id  \\\n",
       "0     1340  41652823310  664   912987         1         8.49       446   \n",
       "1      588  41652838477  664  1024426         1         6.29       388   \n",
       "2     2070  41652857291  664   995242         5         9.10       311   \n",
       "3     1602  41665647035  664   827939         1         7.99       334   \n",
       "4     1602  41665647035  664   927712         1         0.59       334   \n",
       "\n",
       "   retail_disc  trans_time  week_no  coupon_disc  coupon_match_disc  \n",
       "0          0.0          52       96          0.0                0.0  \n",
       "1          0.0           8       96          0.0                0.0  \n",
       "2         -0.6          46       96          0.0                0.0  \n",
       "3          0.0        1741       96          0.0                0.0  \n",
       "4         -0.4        1741       96          0.0                0.0  "
      ]
     },
     "execution_count": 85,
     "metadata": {},
     "output_type": "execute_result"
    }
   ],
   "source": [
    "df_test.head()"
   ]
  },
  {
   "cell_type": "code",
   "execution_count": 86,
   "metadata": {
    "scrolled": true
   },
   "outputs": [
    {
     "data": {
      "text/html": [
       "<div>\n",
       "<style scoped>\n",
       "    .dataframe tbody tr th:only-of-type {\n",
       "        vertical-align: middle;\n",
       "    }\n",
       "\n",
       "    .dataframe tbody tr th {\n",
       "        vertical-align: top;\n",
       "    }\n",
       "\n",
       "    .dataframe thead th {\n",
       "        text-align: right;\n",
       "    }\n",
       "</style>\n",
       "<table border=\"1\" class=\"dataframe\">\n",
       "  <thead>\n",
       "    <tr style=\"text-align: right;\">\n",
       "      <th></th>\n",
       "      <th>user_id</th>\n",
       "      <th>actual</th>\n",
       "    </tr>\n",
       "  </thead>\n",
       "  <tbody>\n",
       "    <tr>\n",
       "      <th>0</th>\n",
       "      <td>1</td>\n",
       "      <td>[880007, 883616, 931136, 938004, 940947, 94726...</td>\n",
       "    </tr>\n",
       "    <tr>\n",
       "      <th>1</th>\n",
       "      <td>2</td>\n",
       "      <td>[820165, 820291, 826784, 826835, 829009, 85784...</td>\n",
       "    </tr>\n",
       "  </tbody>\n",
       "</table>\n",
       "</div>"
      ],
      "text/plain": [
       "   user_id                                             actual\n",
       "0        1  [880007, 883616, 931136, 938004, 940947, 94726...\n",
       "1        2  [820165, 820291, 826784, 826835, 829009, 85784..."
      ]
     },
     "execution_count": 86,
     "metadata": {},
     "output_type": "execute_result"
    }
   ],
   "source": [
    "result_test = df_test.groupby(USER_COL)[ITEM_COL].unique().reset_index()\n",
    "result_test.columns=[USER_COL, ACTUAL_COL]\n",
    "result_test.head(2)"
   ]
  },
  {
   "cell_type": "code",
   "execution_count": 87,
   "metadata": {},
   "outputs": [
    {
     "data": {
      "text/plain": [
       "\"df_test = df_preparation(df_test, keep_columns=columns)\\ndf_test = df_merge_features(df_test, item_features, user_features)\\ndf_test = df_add_features(df_test, data_train_matcher, ITEM_COL=ITEM_COL, USER_COL=USER_COL)\\ndf_test = train_data_preparation(df_test)\\n\\ntrain_preds = model.predict_proba(df_test)\\ndf_test['proba_item_purchase'] = train_preds[:,1]\""
      ]
     },
     "execution_count": 87,
     "metadata": {},
     "output_type": "execute_result"
    }
   ],
   "source": [
    "\"\"\"df_test = df_preparation(df_test, keep_columns=columns)\n",
    "df_test = df_merge_features(df_test, item_features, user_features)\n",
    "df_test = df_add_features(df_test, data_train_matcher, ITEM_COL=ITEM_COL, USER_COL=USER_COL)\n",
    "df_test = train_data_preparation(df_test)\n",
    "\n",
    "train_preds = model.predict_proba(df_test)\n",
    "df_test['proba_item_purchase'] = train_preds[:,1]\"\"\""
   ]
  },
  {
   "cell_type": "code",
   "execution_count": 88,
   "metadata": {},
   "outputs": [],
   "source": [
    "#sorted(calc_precision(result_test, TOPK_PRECISION), key=lambda x: x[1], reverse=True)"
   ]
  },
  {
   "cell_type": "code",
   "execution_count": 89,
   "metadata": {},
   "outputs": [],
   "source": [
    "result_test['reranked_als_rec'] = result_test[USER_COL].apply(lambda user_id: rerank(user_id))"
   ]
  },
  {
   "cell_type": "code",
   "execution_count": 90,
   "metadata": {},
   "outputs": [
    {
     "name": "stdout",
     "output_type": "stream",
     "text": [
      "('reranked_als_rec', 0.13549911399881784)\n",
      "TOPK_PRECISION = 5\n"
     ]
    },
    {
     "name": "stderr",
     "output_type": "stream",
     "text": [
      "/Users/ivanbovsunovskii/Downloads/course_project (1)/metrics.py:20: RuntimeWarning: invalid value encountered in long_scalars\n",
      "  return flags.sum() / len(recommended_list)\n"
     ]
    }
   ],
   "source": [
    "print(*sorted(calc_precision(result_test, TOPK_PRECISION), key=lambda x: x[1], reverse=True),  f'TOPK_PRECISION = {TOPK_PRECISION}', sep='\\n')"
   ]
  },
  {
   "cell_type": "code",
   "execution_count": null,
   "metadata": {},
   "outputs": [],
   "source": []
  }
 ],
 "metadata": {
  "kernelspec": {
   "display_name": "Python 3",
   "language": "python",
   "name": "python3"
  },
  "language_info": {
   "codemirror_mode": {
    "name": "ipython",
    "version": 3
   },
   "file_extension": ".py",
   "mimetype": "text/x-python",
   "name": "python",
   "nbconvert_exporter": "python",
   "pygments_lexer": "ipython3",
   "version": "3.8.12"
  }
 },
 "nbformat": 4,
 "nbformat_minor": 2
}
